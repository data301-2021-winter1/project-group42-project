{
 "cells": [
  {
   "cell_type": "markdown",
   "metadata": {},
   "source": [
    "# Reece Battrum"
   ]
  },
  {
   "cell_type": "markdown",
   "metadata": {},
   "source": [
    "## Does the implementation of new \n",
    "\n",
    "How long does it take the Boston Police Department to enact a noticable change that affects the crime rate in locations around Boston with large amount of criminal activity.\n",
    "\n",
    "How much does a new police procedure / protocol affect the crime rate?\n",
    "\n",
    "Is a large decrease in crime during a certain time period or area noticable in this data set?\n",
    "_________________\n",
    "\n",
    "Is there a correlation between the implementation of laws and the effect dec crime rate, positive or negative effect, any affect at all? \n"
   ]
  },
  {
   "cell_type": "code",
   "execution_count": 1,
   "metadata": {},
   "outputs": [],
   "source": [
    "import pandas as pd\n",
    "import numpy as np\n",
    "import matplotlib.pylab as plt\n",
    "import seaborn as sns"
   ]
  },
  {
   "cell_type": "code",
   "execution_count": 2,
   "metadata": {},
   "outputs": [],
   "source": [
    "df1 = pd.read_csv(\"../data/raw/crime.csv\", encoding = 'unicode_escape')"
   ]
  },
  {
   "cell_type": "code",
   "execution_count": 3,
   "metadata": {},
   "outputs": [
    {
     "name": "stdout",
     "output_type": "stream",
     "text": [
      "Number of rows and columns respectively: (319073, 17)\n",
      "Columns in the dataset: Index(['INCIDENT_NUMBER', 'OFFENSE_CODE', 'OFFENSE_CODE_GROUP',\n",
      "       'OFFENSE_DESCRIPTION', 'DISTRICT', 'REPORTING_AREA', 'SHOOTING',\n",
      "       'OCCURRED_ON_DATE', 'YEAR', 'MONTH', 'DAY_OF_WEEK', 'HOUR', 'UCR_PART',\n",
      "       'STREET', 'Lat', 'Long', 'Location'],\n",
      "      dtype='object')\n"
     ]
    }
   ],
   "source": [
    "print(\"Number of rows and columns respectively:\", df1.shape)\n",
    "print(\"Columns in the dataset:\", df1.columns)"
   ]
  },
  {
   "cell_type": "code",
   "execution_count": 4,
   "metadata": {},
   "outputs": [
    {
     "data": {
      "text/html": [
       "<div>\n",
       "<style scoped>\n",
       "    .dataframe tbody tr th:only-of-type {\n",
       "        vertical-align: middle;\n",
       "    }\n",
       "\n",
       "    .dataframe tbody tr th {\n",
       "        vertical-align: top;\n",
       "    }\n",
       "\n",
       "    .dataframe thead th {\n",
       "        text-align: right;\n",
       "    }\n",
       "</style>\n",
       "<table border=\"1\" class=\"dataframe\">\n",
       "  <thead>\n",
       "    <tr style=\"text-align: right;\">\n",
       "      <th></th>\n",
       "      <th>count</th>\n",
       "      <th>unique</th>\n",
       "      <th>top</th>\n",
       "      <th>freq</th>\n",
       "    </tr>\n",
       "  </thead>\n",
       "  <tbody>\n",
       "    <tr>\n",
       "      <th>INCIDENT_NUMBER</th>\n",
       "      <td>319073</td>\n",
       "      <td>282517</td>\n",
       "      <td>I162030584</td>\n",
       "      <td>13</td>\n",
       "    </tr>\n",
       "    <tr>\n",
       "      <th>OFFENSE_CODE_GROUP</th>\n",
       "      <td>319073</td>\n",
       "      <td>67</td>\n",
       "      <td>Motor Vehicle Accident Response</td>\n",
       "      <td>37132</td>\n",
       "    </tr>\n",
       "    <tr>\n",
       "      <th>OFFENSE_DESCRIPTION</th>\n",
       "      <td>319073</td>\n",
       "      <td>244</td>\n",
       "      <td>SICK/INJURED/MEDICAL - PERSON</td>\n",
       "      <td>18783</td>\n",
       "    </tr>\n",
       "    <tr>\n",
       "      <th>DISTRICT</th>\n",
       "      <td>317308</td>\n",
       "      <td>12</td>\n",
       "      <td>B2</td>\n",
       "      <td>49945</td>\n",
       "    </tr>\n",
       "    <tr>\n",
       "      <th>REPORTING_AREA</th>\n",
       "      <td>319073</td>\n",
       "      <td>879</td>\n",
       "      <td></td>\n",
       "      <td>20250</td>\n",
       "    </tr>\n",
       "    <tr>\n",
       "      <th>SHOOTING</th>\n",
       "      <td>1019</td>\n",
       "      <td>1</td>\n",
       "      <td>Y</td>\n",
       "      <td>1019</td>\n",
       "    </tr>\n",
       "    <tr>\n",
       "      <th>OCCURRED_ON_DATE</th>\n",
       "      <td>319073</td>\n",
       "      <td>233229</td>\n",
       "      <td>2017-06-01 00:00:00</td>\n",
       "      <td>29</td>\n",
       "    </tr>\n",
       "    <tr>\n",
       "      <th>DAY_OF_WEEK</th>\n",
       "      <td>319073</td>\n",
       "      <td>7</td>\n",
       "      <td>Friday</td>\n",
       "      <td>48495</td>\n",
       "    </tr>\n",
       "    <tr>\n",
       "      <th>UCR_PART</th>\n",
       "      <td>318983</td>\n",
       "      <td>4</td>\n",
       "      <td>Part Three</td>\n",
       "      <td>158553</td>\n",
       "    </tr>\n",
       "    <tr>\n",
       "      <th>STREET</th>\n",
       "      <td>308202</td>\n",
       "      <td>4657</td>\n",
       "      <td>WASHINGTON ST</td>\n",
       "      <td>14194</td>\n",
       "    </tr>\n",
       "    <tr>\n",
       "      <th>Location</th>\n",
       "      <td>319073</td>\n",
       "      <td>18194</td>\n",
       "      <td>(0.00000000, 0.00000000)</td>\n",
       "      <td>19999</td>\n",
       "    </tr>\n",
       "  </tbody>\n",
       "</table>\n",
       "</div>"
      ],
      "text/plain": [
       "                      count  unique                              top    freq\n",
       "INCIDENT_NUMBER      319073  282517                       I162030584      13\n",
       "OFFENSE_CODE_GROUP   319073      67  Motor Vehicle Accident Response   37132\n",
       "OFFENSE_DESCRIPTION  319073     244    SICK/INJURED/MEDICAL - PERSON   18783\n",
       "DISTRICT             317308      12                               B2   49945\n",
       "REPORTING_AREA       319073     879                                    20250\n",
       "SHOOTING               1019       1                                Y    1019\n",
       "OCCURRED_ON_DATE     319073  233229              2017-06-01 00:00:00      29\n",
       "DAY_OF_WEEK          319073       7                           Friday   48495\n",
       "UCR_PART             318983       4                       Part Three  158553\n",
       "STREET               308202    4657                    WASHINGTON ST   14194\n",
       "Location             319073   18194         (0.00000000, 0.00000000)   19999"
      ]
     },
     "execution_count": 4,
     "metadata": {},
     "output_type": "execute_result"
    }
   ],
   "source": [
    "df1.describe(include='object').T"
   ]
  },
  {
   "cell_type": "code",
   "execution_count": 17,
   "metadata": {},
   "outputs": [
    {
     "data": {
      "text/html": [
       "<div>\n",
       "<style scoped>\n",
       "    .dataframe tbody tr th:only-of-type {\n",
       "        vertical-align: middle;\n",
       "    }\n",
       "\n",
       "    .dataframe tbody tr th {\n",
       "        vertical-align: top;\n",
       "    }\n",
       "\n",
       "    .dataframe thead th {\n",
       "        text-align: right;\n",
       "    }\n",
       "</style>\n",
       "<table border=\"1\" class=\"dataframe\">\n",
       "  <thead>\n",
       "    <tr style=\"text-align: right;\">\n",
       "      <th></th>\n",
       "      <th>OFFENSE_CODE_GROUP</th>\n",
       "      <th>DISTRICT</th>\n",
       "      <th>YEAR</th>\n",
       "      <th>MONTH</th>\n",
       "      <th>STREET</th>\n",
       "    </tr>\n",
       "  </thead>\n",
       "  <tbody>\n",
       "    <tr>\n",
       "      <th>0</th>\n",
       "      <td>Larceny</td>\n",
       "      <td>D14</td>\n",
       "      <td>2018</td>\n",
       "      <td>9</td>\n",
       "      <td>LINCOLN ST</td>\n",
       "    </tr>\n",
       "    <tr>\n",
       "      <th>1</th>\n",
       "      <td>Vandalism</td>\n",
       "      <td>C11</td>\n",
       "      <td>2018</td>\n",
       "      <td>8</td>\n",
       "      <td>HECLA ST</td>\n",
       "    </tr>\n",
       "    <tr>\n",
       "      <th>2</th>\n",
       "      <td>Towed</td>\n",
       "      <td>D4</td>\n",
       "      <td>2018</td>\n",
       "      <td>9</td>\n",
       "      <td>CAZENOVE ST</td>\n",
       "    </tr>\n",
       "    <tr>\n",
       "      <th>3</th>\n",
       "      <td>Investigate Property</td>\n",
       "      <td>D4</td>\n",
       "      <td>2018</td>\n",
       "      <td>9</td>\n",
       "      <td>NEWCOMB ST</td>\n",
       "    </tr>\n",
       "    <tr>\n",
       "      <th>4</th>\n",
       "      <td>Investigate Property</td>\n",
       "      <td>B3</td>\n",
       "      <td>2018</td>\n",
       "      <td>9</td>\n",
       "      <td>DELHI ST</td>\n",
       "    </tr>\n",
       "    <tr>\n",
       "      <th>...</th>\n",
       "      <td>...</td>\n",
       "      <td>...</td>\n",
       "      <td>...</td>\n",
       "      <td>...</td>\n",
       "      <td>...</td>\n",
       "    </tr>\n",
       "    <tr>\n",
       "      <th>319068</th>\n",
       "      <td>Warrant Arrests</td>\n",
       "      <td>D4</td>\n",
       "      <td>2016</td>\n",
       "      <td>6</td>\n",
       "      <td>COVENTRY ST</td>\n",
       "    </tr>\n",
       "    <tr>\n",
       "      <th>319069</th>\n",
       "      <td>Homicide</td>\n",
       "      <td>E18</td>\n",
       "      <td>2015</td>\n",
       "      <td>7</td>\n",
       "      <td>RIVER ST</td>\n",
       "    </tr>\n",
       "    <tr>\n",
       "      <th>319070</th>\n",
       "      <td>Warrant Arrests</td>\n",
       "      <td>E18</td>\n",
       "      <td>2015</td>\n",
       "      <td>7</td>\n",
       "      <td>RIVER ST</td>\n",
       "    </tr>\n",
       "    <tr>\n",
       "      <th>319071</th>\n",
       "      <td>Warrant Arrests</td>\n",
       "      <td>E13</td>\n",
       "      <td>2016</td>\n",
       "      <td>5</td>\n",
       "      <td>NEW WASHINGTON ST</td>\n",
       "    </tr>\n",
       "    <tr>\n",
       "      <th>319072</th>\n",
       "      <td>Warrant Arrests</td>\n",
       "      <td>D4</td>\n",
       "      <td>2015</td>\n",
       "      <td>6</td>\n",
       "      <td>WASHINGTON ST</td>\n",
       "    </tr>\n",
       "  </tbody>\n",
       "</table>\n",
       "<p>319073 rows × 5 columns</p>\n",
       "</div>"
      ],
      "text/plain": [
       "          OFFENSE_CODE_GROUP DISTRICT  YEAR  MONTH             STREET\n",
       "0                    Larceny      D14  2018      9         LINCOLN ST\n",
       "1                  Vandalism      C11  2018      8           HECLA ST\n",
       "2                      Towed       D4  2018      9        CAZENOVE ST\n",
       "3       Investigate Property       D4  2018      9         NEWCOMB ST\n",
       "4       Investigate Property       B3  2018      9           DELHI ST\n",
       "...                      ...      ...   ...    ...                ...\n",
       "319068       Warrant Arrests       D4  2016      6        COVENTRY ST\n",
       "319069              Homicide      E18  2015      7           RIVER ST\n",
       "319070       Warrant Arrests      E18  2015      7           RIVER ST\n",
       "319071       Warrant Arrests      E13  2016      5  NEW WASHINGTON ST\n",
       "319072       Warrant Arrests       D4  2015      6      WASHINGTON ST\n",
       "\n",
       "[319073 rows x 5 columns]"
      ]
     },
     "execution_count": 17,
     "metadata": {},
     "output_type": "execute_result"
    }
   ],
   "source": [
    "dfClean = df1.drop(columns = ['INCIDENT_NUMBER', 'REPORTING_AREA', 'SHOOTING', 'DAY_OF_WEEK', 'UCR_PART', 'Location', 'OFFENSE_DESCRIPTION', 'Lat', 'Long', 'HOUR', 'OCCURRED_ON_DATE', 'OFFENSE_CODE'])\n",
    "dfClean"
   ]
  },
  {
   "cell_type": "code",
   "execution_count": 34,
   "metadata": {},
   "outputs": [
    {
     "data": {
      "image/png": "[encoded data removed]",
      "text/plain": [
       "<Figure size 432x288 with 1 Axes>"
      ]
     },
     "metadata": {
      "needs_background": "light"
     },
     "output_type": "display_data"
    }
   ],
   "source": [
    "countVsYear = sns.countplot(y ='YEAR' ,data = dfClean)\n",
    "# Number of crimes committed total by year\n",
    "#Shows very large decrease in crime from 2017 -> 2018"
   ]
  },
  {
   "cell_type": "code",
   "execution_count": 36,
   "metadata": {},
   "outputs": [
    {
     "name": "stdout",
     "output_type": "stream",
     "text": [
      "The number of crimes committed in Boston in 2015 is 52027\n"
     ]
    },
    {
     "data": {
      "text/html": [
       "<div>\n",
       "<style scoped>\n",
       "    .dataframe tbody tr th:only-of-type {\n",
       "        vertical-align: middle;\n",
       "    }\n",
       "\n",
       "    .dataframe tbody tr th {\n",
       "        vertical-align: top;\n",
       "    }\n",
       "\n",
       "    .dataframe thead th {\n",
       "        text-align: right;\n",
       "    }\n",
       "</style>\n",
       "<table border=\"1\" class=\"dataframe\">\n",
       "  <thead>\n",
       "    <tr style=\"text-align: right;\">\n",
       "      <th></th>\n",
       "      <th>OFFENSE_CODE_GROUP</th>\n",
       "      <th>DISTRICT</th>\n",
       "      <th>YEAR</th>\n",
       "      <th>MONTH</th>\n",
       "      <th>STREET</th>\n",
       "    </tr>\n",
       "  </thead>\n",
       "  <tbody>\n",
       "    <tr>\n",
       "      <th>4363</th>\n",
       "      <td>Harassment</td>\n",
       "      <td>B3</td>\n",
       "      <td>2015</td>\n",
       "      <td>7</td>\n",
       "      <td>RADCLIFFE ST</td>\n",
       "    </tr>\n",
       "    <tr>\n",
       "      <th>14715</th>\n",
       "      <td>Other</td>\n",
       "      <td>B2</td>\n",
       "      <td>2015</td>\n",
       "      <td>7</td>\n",
       "      <td>FAYSTON ST</td>\n",
       "    </tr>\n",
       "    <tr>\n",
       "      <th>16645</th>\n",
       "      <td>Fraud</td>\n",
       "      <td>D4</td>\n",
       "      <td>2015</td>\n",
       "      <td>12</td>\n",
       "      <td>WESTLAND AVE</td>\n",
       "    </tr>\n",
       "    <tr>\n",
       "      <th>16646</th>\n",
       "      <td>Larceny</td>\n",
       "      <td>D4</td>\n",
       "      <td>2015</td>\n",
       "      <td>12</td>\n",
       "      <td>WESTLAND AVE</td>\n",
       "    </tr>\n",
       "    <tr>\n",
       "      <th>24888</th>\n",
       "      <td>Fraud</td>\n",
       "      <td>E18</td>\n",
       "      <td>2015</td>\n",
       "      <td>7</td>\n",
       "      <td>OAKCREST RD</td>\n",
       "    </tr>\n",
       "    <tr>\n",
       "      <th>...</th>\n",
       "      <td>...</td>\n",
       "      <td>...</td>\n",
       "      <td>...</td>\n",
       "      <td>...</td>\n",
       "      <td>...</td>\n",
       "    </tr>\n",
       "    <tr>\n",
       "      <th>319064</th>\n",
       "      <td>Drug Violation</td>\n",
       "      <td>A1</td>\n",
       "      <td>2015</td>\n",
       "      <td>8</td>\n",
       "      <td>BOYLSTON ST</td>\n",
       "    </tr>\n",
       "    <tr>\n",
       "      <th>319065</th>\n",
       "      <td>Drug Violation</td>\n",
       "      <td>A1</td>\n",
       "      <td>2015</td>\n",
       "      <td>8</td>\n",
       "      <td>BOYLSTON ST</td>\n",
       "    </tr>\n",
       "    <tr>\n",
       "      <th>319069</th>\n",
       "      <td>Homicide</td>\n",
       "      <td>E18</td>\n",
       "      <td>2015</td>\n",
       "      <td>7</td>\n",
       "      <td>RIVER ST</td>\n",
       "    </tr>\n",
       "    <tr>\n",
       "      <th>319070</th>\n",
       "      <td>Warrant Arrests</td>\n",
       "      <td>E18</td>\n",
       "      <td>2015</td>\n",
       "      <td>7</td>\n",
       "      <td>RIVER ST</td>\n",
       "    </tr>\n",
       "    <tr>\n",
       "      <th>319072</th>\n",
       "      <td>Warrant Arrests</td>\n",
       "      <td>D4</td>\n",
       "      <td>2015</td>\n",
       "      <td>6</td>\n",
       "      <td>WASHINGTON ST</td>\n",
       "    </tr>\n",
       "  </tbody>\n",
       "</table>\n",
       "<p>52027 rows × 5 columns</p>\n",
       "</div>"
      ],
      "text/plain": [
       "       OFFENSE_CODE_GROUP DISTRICT  YEAR  MONTH         STREET\n",
       "4363           Harassment       B3  2015      7   RADCLIFFE ST\n",
       "14715               Other       B2  2015      7     FAYSTON ST\n",
       "16645               Fraud       D4  2015     12   WESTLAND AVE\n",
       "16646             Larceny       D4  2015     12   WESTLAND AVE\n",
       "24888               Fraud      E18  2015      7    OAKCREST RD\n",
       "...                   ...      ...   ...    ...            ...\n",
       "319064     Drug Violation       A1  2015      8    BOYLSTON ST\n",
       "319065     Drug Violation       A1  2015      8    BOYLSTON ST\n",
       "319069           Homicide      E18  2015      7       RIVER ST\n",
       "319070    Warrant Arrests      E18  2015      7       RIVER ST\n",
       "319072    Warrant Arrests       D4  2015      6  WASHINGTON ST\n",
       "\n",
       "[52027 rows x 5 columns]"
      ]
     },
     "execution_count": 36,
     "metadata": {},
     "output_type": "execute_result"
    }
   ],
   "source": [
    "dfClean2015 = dfClean[dfClean['YEAR'] == 2015]\n",
    "numCrime2015 = dfClean2015.dropna().shape[0]\n",
    "print('The number of crimes committed in Boston in 2015 is', numCrime2015)\n",
    "dfClean2015.dropna()"
   ]
  },
  {
   "cell_type": "code",
   "execution_count": 44,
   "metadata": {},
   "outputs": [
    {
     "data": {
      "image/png": "[encoded data removed]",
      "text/plain": [
       "<Figure size 432x288 with 1 Axes>"
      ]
     },
     "metadata": {
      "needs_background": "light"
     },
     "output_type": "display_data"
    }
   ],
   "source": [
    "countVsMonth2015 = sns.countplot(y ='MONTH' ,data = dfClean2015)\n",
    "#Crime by month in 2015, shows crime is increasing as year goes on leading to large jump in 2016\n",
    "#Note: BPD began using this new system in June."
   ]
  },
  {
   "cell_type": "code",
   "execution_count": 13,
   "metadata": {},
   "outputs": [
    {
     "data": {
      "text/plain": [
       "Text(0.5, 1.0, 'Number of Crimes Committed vs. DISTRICT')"
      ]
     },
     "execution_count": 13,
     "metadata": {},
     "output_type": "execute_result"
    },
    {
     "data": {
      "image/png": "[encoded data removed]",
      "text/plain": [
       "<Figure size 360x360 with 1 Axes>"
      ]
     },
     "metadata": {
      "needs_background": "light"
     },
     "output_type": "display_data"
    }
   ],
   "source": [
    "sns.displot(dfClean2015['DISTRICT'], kde=False, bins=25)\n",
    "plt.ylabel('Number of Crimes Committed')\n",
    "plt.title('Number of Crimes Committed vs. DISTRICT')"
   ]
  },
  {
   "cell_type": "code",
   "execution_count": 20,
   "metadata": {},
   "outputs": [
    {
     "name": "stdout",
     "output_type": "stream",
     "text": [
      "The number of crimes committed in Boston in 2016 is 93173\n"
     ]
    },
    {
     "data": {
      "text/html": [
       "<div>\n",
       "<style scoped>\n",
       "    .dataframe tbody tr th:only-of-type {\n",
       "        vertical-align: middle;\n",
       "    }\n",
       "\n",
       "    .dataframe tbody tr th {\n",
       "        vertical-align: top;\n",
       "    }\n",
       "\n",
       "    .dataframe thead th {\n",
       "        text-align: right;\n",
       "    }\n",
       "</style>\n",
       "<table border=\"1\" class=\"dataframe\">\n",
       "  <thead>\n",
       "    <tr style=\"text-align: right;\">\n",
       "      <th></th>\n",
       "      <th>OFFENSE_CODE_GROUP</th>\n",
       "      <th>DISTRICT</th>\n",
       "      <th>YEAR</th>\n",
       "      <th>MONTH</th>\n",
       "      <th>STREET</th>\n",
       "    </tr>\n",
       "  </thead>\n",
       "  <tbody>\n",
       "    <tr>\n",
       "      <th>1813</th>\n",
       "      <td>Fraud</td>\n",
       "      <td>C11</td>\n",
       "      <td>2016</td>\n",
       "      <td>1</td>\n",
       "      <td>HILL TOP ST</td>\n",
       "    </tr>\n",
       "    <tr>\n",
       "      <th>3072</th>\n",
       "      <td>Property Lost</td>\n",
       "      <td>E13</td>\n",
       "      <td>2016</td>\n",
       "      <td>7</td>\n",
       "      <td>HATHAWAY ST</td>\n",
       "    </tr>\n",
       "    <tr>\n",
       "      <th>7885</th>\n",
       "      <td>Harassment</td>\n",
       "      <td>D4</td>\n",
       "      <td>2016</td>\n",
       "      <td>8</td>\n",
       "      <td>W NEWTON ST</td>\n",
       "    </tr>\n",
       "    <tr>\n",
       "      <th>11783</th>\n",
       "      <td>Counterfeiting</td>\n",
       "      <td>E5</td>\n",
       "      <td>2016</td>\n",
       "      <td>9</td>\n",
       "      <td>GARNET RD</td>\n",
       "    </tr>\n",
       "    <tr>\n",
       "      <th>12825</th>\n",
       "      <td>Police Service Incidents</td>\n",
       "      <td>B3</td>\n",
       "      <td>2016</td>\n",
       "      <td>10</td>\n",
       "      <td>WARNER ST</td>\n",
       "    </tr>\n",
       "    <tr>\n",
       "      <th>...</th>\n",
       "      <td>...</td>\n",
       "      <td>...</td>\n",
       "      <td>...</td>\n",
       "      <td>...</td>\n",
       "      <td>...</td>\n",
       "    </tr>\n",
       "    <tr>\n",
       "      <th>319058</th>\n",
       "      <td>Violations</td>\n",
       "      <td>B2</td>\n",
       "      <td>2016</td>\n",
       "      <td>7</td>\n",
       "      <td>SLAYTON WAY</td>\n",
       "    </tr>\n",
       "    <tr>\n",
       "      <th>319059</th>\n",
       "      <td>Warrant Arrests</td>\n",
       "      <td>C11</td>\n",
       "      <td>2016</td>\n",
       "      <td>2</td>\n",
       "      <td>GENEVA AVE</td>\n",
       "    </tr>\n",
       "    <tr>\n",
       "      <th>319060</th>\n",
       "      <td>Warrant Arrests</td>\n",
       "      <td>C11</td>\n",
       "      <td>2016</td>\n",
       "      <td>2</td>\n",
       "      <td>GENEVA AVE</td>\n",
       "    </tr>\n",
       "    <tr>\n",
       "      <th>319068</th>\n",
       "      <td>Warrant Arrests</td>\n",
       "      <td>D4</td>\n",
       "      <td>2016</td>\n",
       "      <td>6</td>\n",
       "      <td>COVENTRY ST</td>\n",
       "    </tr>\n",
       "    <tr>\n",
       "      <th>319071</th>\n",
       "      <td>Warrant Arrests</td>\n",
       "      <td>E13</td>\n",
       "      <td>2016</td>\n",
       "      <td>5</td>\n",
       "      <td>NEW WASHINGTON ST</td>\n",
       "    </tr>\n",
       "  </tbody>\n",
       "</table>\n",
       "<p>93173 rows × 5 columns</p>\n",
       "</div>"
      ],
      "text/plain": [
       "              OFFENSE_CODE_GROUP DISTRICT  YEAR  MONTH             STREET\n",
       "1813                       Fraud      C11  2016      1        HILL TOP ST\n",
       "3072               Property Lost      E13  2016      7        HATHAWAY ST\n",
       "7885                  Harassment       D4  2016      8        W NEWTON ST\n",
       "11783             Counterfeiting       E5  2016      9          GARNET RD\n",
       "12825   Police Service Incidents       B3  2016     10          WARNER ST\n",
       "...                          ...      ...   ...    ...                ...\n",
       "319058                Violations       B2  2016      7        SLAYTON WAY\n",
       "319059           Warrant Arrests      C11  2016      2         GENEVA AVE\n",
       "319060           Warrant Arrests      C11  2016      2         GENEVA AVE\n",
       "319068           Warrant Arrests       D4  2016      6        COVENTRY ST\n",
       "319071           Warrant Arrests      E13  2016      5  NEW WASHINGTON ST\n",
       "\n",
       "[93173 rows x 5 columns]"
      ]
     },
     "execution_count": 20,
     "metadata": {},
     "output_type": "execute_result"
    }
   ],
   "source": [
    "dfClean2016 = dfClean[dfClean['YEAR'] == 2016]\n",
    "numCrime2016 = dfClean2016.dropna().shape[0]\n",
    "print('The number of crimes committed in Boston in 2016 is', numCrime2016)\n",
    "dfClean2016.dropna()"
   ]
  },
  {
   "cell_type": "code",
   "execution_count": 39,
   "metadata": {},
   "outputs": [
    {
     "data": {
      "image/png": "[encoded data removed]",
      "text/plain": [
       "<Figure size 432x288 with 1 Axes>"
      ]
     },
     "metadata": {
      "needs_background": "light"
     },
     "output_type": "display_data"
    }
   ],
   "source": [
    "countVsMonth2016 = sns.countplot(y ='MONTH' ,data = dfClean2016)"
   ]
  },
  {
   "cell_type": "code",
   "execution_count": 12,
   "metadata": {},
   "outputs": [
    {
     "data": {
      "text/plain": [
       "Text(0.5, 1.0, 'Number of Crimes Committed vs. DISTRICT')"
      ]
     },
     "execution_count": 12,
     "metadata": {},
     "output_type": "execute_result"
    },
    {
     "data": {
      "image/png": "[encoded data removed]",
      "text/plain": [
       "<Figure size 360x360 with 1 Axes>"
      ]
     },
     "metadata": {
      "needs_background": "light"
     },
     "output_type": "display_data"
    }
   ],
   "source": [
    "sns.displot(dfClean2016['DISTRICT'], kde=False, bins=25)\n",
    "plt.ylabel('Number of Crimes Committed')\n",
    "plt.title('Number of Crimes Committed vs. DISTRICT')"
   ]
  },
  {
   "cell_type": "code",
   "execution_count": 21,
   "metadata": {},
   "outputs": [
    {
     "name": "stdout",
     "output_type": "stream",
     "text": [
      "The number of crimes committed in Boston in 2017 is 97961\n"
     ]
    },
    {
     "data": {
      "text/html": [
       "<div>\n",
       "<style scoped>\n",
       "    .dataframe tbody tr th:only-of-type {\n",
       "        vertical-align: middle;\n",
       "    }\n",
       "\n",
       "    .dataframe tbody tr th {\n",
       "        vertical-align: top;\n",
       "    }\n",
       "\n",
       "    .dataframe thead th {\n",
       "        text-align: right;\n",
       "    }\n",
       "</style>\n",
       "<table border=\"1\" class=\"dataframe\">\n",
       "  <thead>\n",
       "    <tr style=\"text-align: right;\">\n",
       "      <th></th>\n",
       "      <th>OFFENSE_CODE_GROUP</th>\n",
       "      <th>DISTRICT</th>\n",
       "      <th>YEAR</th>\n",
       "      <th>MONTH</th>\n",
       "      <th>STREET</th>\n",
       "    </tr>\n",
       "  </thead>\n",
       "  <tbody>\n",
       "    <tr>\n",
       "      <th>569</th>\n",
       "      <td>Fraud</td>\n",
       "      <td>D4</td>\n",
       "      <td>2017</td>\n",
       "      <td>11</td>\n",
       "      <td>E BROOKLINE ST</td>\n",
       "    </tr>\n",
       "    <tr>\n",
       "      <th>744</th>\n",
       "      <td>Investigate Property</td>\n",
       "      <td>D14</td>\n",
       "      <td>2017</td>\n",
       "      <td>10</td>\n",
       "      <td>KELTON ST</td>\n",
       "    </tr>\n",
       "    <tr>\n",
       "      <th>923</th>\n",
       "      <td>Property Lost</td>\n",
       "      <td>B2</td>\n",
       "      <td>2017</td>\n",
       "      <td>8</td>\n",
       "      <td>SHAWMUT AVE</td>\n",
       "    </tr>\n",
       "    <tr>\n",
       "      <th>1162</th>\n",
       "      <td>Fraud</td>\n",
       "      <td>D14</td>\n",
       "      <td>2017</td>\n",
       "      <td>6</td>\n",
       "      <td>COMMONWEALTH AVE</td>\n",
       "    </tr>\n",
       "    <tr>\n",
       "      <th>1444</th>\n",
       "      <td>Property Lost</td>\n",
       "      <td>B3</td>\n",
       "      <td>2017</td>\n",
       "      <td>12</td>\n",
       "      <td>MORTON ST</td>\n",
       "    </tr>\n",
       "    <tr>\n",
       "      <th>...</th>\n",
       "      <td>...</td>\n",
       "      <td>...</td>\n",
       "      <td>...</td>\n",
       "      <td>...</td>\n",
       "      <td>...</td>\n",
       "    </tr>\n",
       "    <tr>\n",
       "      <th>318915</th>\n",
       "      <td>Violations</td>\n",
       "      <td>E18</td>\n",
       "      <td>2017</td>\n",
       "      <td>1</td>\n",
       "      <td>AMERICAN LEGION HWY</td>\n",
       "    </tr>\n",
       "    <tr>\n",
       "      <th>318927</th>\n",
       "      <td>Warrant Arrests</td>\n",
       "      <td>D14</td>\n",
       "      <td>2017</td>\n",
       "      <td>4</td>\n",
       "      <td>BRIGHTON AVE</td>\n",
       "    </tr>\n",
       "    <tr>\n",
       "      <th>319030</th>\n",
       "      <td>Warrant Arrests</td>\n",
       "      <td>B2</td>\n",
       "      <td>2017</td>\n",
       "      <td>1</td>\n",
       "      <td>JOHN ELIOT SQ</td>\n",
       "    </tr>\n",
       "    <tr>\n",
       "      <th>319031</th>\n",
       "      <td>Drug Violation</td>\n",
       "      <td>B2</td>\n",
       "      <td>2017</td>\n",
       "      <td>1</td>\n",
       "      <td>JOHN ELIOT SQ</td>\n",
       "    </tr>\n",
       "    <tr>\n",
       "      <th>319032</th>\n",
       "      <td>Search Warrants</td>\n",
       "      <td>B2</td>\n",
       "      <td>2017</td>\n",
       "      <td>1</td>\n",
       "      <td>JOHN ELIOT SQ</td>\n",
       "    </tr>\n",
       "  </tbody>\n",
       "</table>\n",
       "<p>97961 rows × 5 columns</p>\n",
       "</div>"
      ],
      "text/plain": [
       "          OFFENSE_CODE_GROUP DISTRICT  YEAR  MONTH               STREET\n",
       "569                    Fraud       D4  2017     11       E BROOKLINE ST\n",
       "744     Investigate Property      D14  2017     10            KELTON ST\n",
       "923            Property Lost       B2  2017      8          SHAWMUT AVE\n",
       "1162                   Fraud      D14  2017      6     COMMONWEALTH AVE\n",
       "1444           Property Lost       B3  2017     12            MORTON ST\n",
       "...                      ...      ...   ...    ...                  ...\n",
       "318915            Violations      E18  2017      1  AMERICAN LEGION HWY\n",
       "318927       Warrant Arrests      D14  2017      4         BRIGHTON AVE\n",
       "319030       Warrant Arrests       B2  2017      1        JOHN ELIOT SQ\n",
       "319031        Drug Violation       B2  2017      1        JOHN ELIOT SQ\n",
       "319032       Search Warrants       B2  2017      1        JOHN ELIOT SQ\n",
       "\n",
       "[97961 rows x 5 columns]"
      ]
     },
     "execution_count": 21,
     "metadata": {},
     "output_type": "execute_result"
    }
   ],
   "source": [
    "dfClean2017 = dfClean[dfClean['YEAR'] == 2017]\n",
    "numCrime2017 = dfClean2017.dropna().shape[0]\n",
    "print('The number of crimes committed in Boston in 2017 is', numCrime2017)\n",
    "dfClean2017.dropna()"
   ]
  },
  {
   "cell_type": "code",
   "execution_count": 42,
   "metadata": {},
   "outputs": [
    {
     "data": {
      "image/png": "[encoded data removed]",
      "text/plain": [
       "<Figure size 432x288 with 1 Axes>"
      ]
     },
     "metadata": {
      "needs_background": "light"
     },
     "output_type": "display_data"
    }
   ],
   "source": [
    "countVsMonth2017 = sns.countplot(y ='MONTH' ,data = dfClean2017)\n",
    "#Crime by month in 2017, shows decreasing trend heading into 2018"
   ]
  },
  {
   "cell_type": "code",
   "execution_count": 79,
   "metadata": {},
   "outputs": [
    {
     "data": {
      "text/plain": [
       "Text(0.5, 1.0, 'Number of Crimes Committed vs. DISTRICT')"
      ]
     },
     "execution_count": 79,
     "metadata": {},
     "output_type": "execute_result"
    },
    {
     "data": {
      "image/png": "[encoded data removed]",
      "text/plain": [
       "<Figure size 360x360 with 1 Axes>"
      ]
     },
     "metadata": {
      "needs_background": "light"
     },
     "output_type": "display_data"
    }
   ],
   "source": [
    "sns.displot(dfClean2017['DISTRICT'], kde=False, bins=25)\n",
    "plt.ylabel('Number of Crimes Committed')\n",
    "plt.title('Number of Crimes Committed vs. DISTRICT')"
   ]
  },
  {
   "cell_type": "code",
   "execution_count": 22,
   "metadata": {},
   "outputs": [
    {
     "name": "stdout",
     "output_type": "stream",
     "text": [
      "The number of crimes committed in Boston in 2018 is 64323\n"
     ]
    },
    {
     "data": {
      "text/html": [
       "<div>\n",
       "<style scoped>\n",
       "    .dataframe tbody tr th:only-of-type {\n",
       "        vertical-align: middle;\n",
       "    }\n",
       "\n",
       "    .dataframe tbody tr th {\n",
       "        vertical-align: top;\n",
       "    }\n",
       "\n",
       "    .dataframe thead th {\n",
       "        text-align: right;\n",
       "    }\n",
       "</style>\n",
       "<table border=\"1\" class=\"dataframe\">\n",
       "  <thead>\n",
       "    <tr style=\"text-align: right;\">\n",
       "      <th></th>\n",
       "      <th>OFFENSE_CODE_GROUP</th>\n",
       "      <th>DISTRICT</th>\n",
       "      <th>YEAR</th>\n",
       "      <th>MONTH</th>\n",
       "      <th>STREET</th>\n",
       "    </tr>\n",
       "  </thead>\n",
       "  <tbody>\n",
       "    <tr>\n",
       "      <th>0</th>\n",
       "      <td>Larceny</td>\n",
       "      <td>D14</td>\n",
       "      <td>2018</td>\n",
       "      <td>9</td>\n",
       "      <td>LINCOLN ST</td>\n",
       "    </tr>\n",
       "    <tr>\n",
       "      <th>1</th>\n",
       "      <td>Vandalism</td>\n",
       "      <td>C11</td>\n",
       "      <td>2018</td>\n",
       "      <td>8</td>\n",
       "      <td>HECLA ST</td>\n",
       "    </tr>\n",
       "    <tr>\n",
       "      <th>2</th>\n",
       "      <td>Towed</td>\n",
       "      <td>D4</td>\n",
       "      <td>2018</td>\n",
       "      <td>9</td>\n",
       "      <td>CAZENOVE ST</td>\n",
       "    </tr>\n",
       "    <tr>\n",
       "      <th>3</th>\n",
       "      <td>Investigate Property</td>\n",
       "      <td>D4</td>\n",
       "      <td>2018</td>\n",
       "      <td>9</td>\n",
       "      <td>NEWCOMB ST</td>\n",
       "    </tr>\n",
       "    <tr>\n",
       "      <th>4</th>\n",
       "      <td>Investigate Property</td>\n",
       "      <td>B3</td>\n",
       "      <td>2018</td>\n",
       "      <td>9</td>\n",
       "      <td>DELHI ST</td>\n",
       "    </tr>\n",
       "    <tr>\n",
       "      <th>...</th>\n",
       "      <td>...</td>\n",
       "      <td>...</td>\n",
       "      <td>...</td>\n",
       "      <td>...</td>\n",
       "      <td>...</td>\n",
       "    </tr>\n",
       "    <tr>\n",
       "      <th>318904</th>\n",
       "      <td>Warrant Arrests</td>\n",
       "      <td>E13</td>\n",
       "      <td>2018</td>\n",
       "      <td>7</td>\n",
       "      <td>HUBBARD ST</td>\n",
       "    </tr>\n",
       "    <tr>\n",
       "      <th>318905</th>\n",
       "      <td>Drug Violation</td>\n",
       "      <td>E13</td>\n",
       "      <td>2018</td>\n",
       "      <td>7</td>\n",
       "      <td>HUBBARD ST</td>\n",
       "    </tr>\n",
       "    <tr>\n",
       "      <th>319042</th>\n",
       "      <td>Warrant Arrests</td>\n",
       "      <td>A1</td>\n",
       "      <td>2018</td>\n",
       "      <td>8</td>\n",
       "      <td>CAMBRIDGE ST</td>\n",
       "    </tr>\n",
       "    <tr>\n",
       "      <th>319066</th>\n",
       "      <td>Drug Violation</td>\n",
       "      <td>E13</td>\n",
       "      <td>2018</td>\n",
       "      <td>1</td>\n",
       "      <td>CENTRE ST</td>\n",
       "    </tr>\n",
       "    <tr>\n",
       "      <th>319067</th>\n",
       "      <td>Warrant Arrests</td>\n",
       "      <td>E13</td>\n",
       "      <td>2018</td>\n",
       "      <td>1</td>\n",
       "      <td>CENTRE ST</td>\n",
       "    </tr>\n",
       "  </tbody>\n",
       "</table>\n",
       "<p>64323 rows × 5 columns</p>\n",
       "</div>"
      ],
      "text/plain": [
       "          OFFENSE_CODE_GROUP DISTRICT  YEAR  MONTH        STREET\n",
       "0                    Larceny      D14  2018      9    LINCOLN ST\n",
       "1                  Vandalism      C11  2018      8      HECLA ST\n",
       "2                      Towed       D4  2018      9   CAZENOVE ST\n",
       "3       Investigate Property       D4  2018      9    NEWCOMB ST\n",
       "4       Investigate Property       B3  2018      9      DELHI ST\n",
       "...                      ...      ...   ...    ...           ...\n",
       "318904       Warrant Arrests      E13  2018      7    HUBBARD ST\n",
       "318905        Drug Violation      E13  2018      7    HUBBARD ST\n",
       "319042       Warrant Arrests       A1  2018      8  CAMBRIDGE ST\n",
       "319066        Drug Violation      E13  2018      1     CENTRE ST\n",
       "319067       Warrant Arrests      E13  2018      1     CENTRE ST\n",
       "\n",
       "[64323 rows x 5 columns]"
      ]
     },
     "execution_count": 22,
     "metadata": {},
     "output_type": "execute_result"
    }
   ],
   "source": [
    "dfClean2018 = dfClean[dfClean['YEAR'] == 2018]\n",
    "numCrime2018 = dfClean2018.dropna().shape[0]\n",
    "print('The number of crimes committed in Boston in 2018 is', numCrime2018)\n",
    "dfClean2018.dropna()"
   ]
  },
  {
   "cell_type": "code",
   "execution_count": 43,
   "metadata": {},
   "outputs": [
    {
     "data": {
      "image/png": "[encoded data removed]",
      "text/plain": [
       "<Figure size 432x288 with 1 Axes>"
      ]
     },
     "metadata": {
      "needs_background": "light"
     },
     "output_type": "display_data"
    }
   ],
   "source": [
    "countVsMonth2018 = sns.countplot(y ='MONTH' ,data = dfClean2018)\n",
    "#Crime by month in 2018 shows the unfortunate increase in crime again heading into the later months of the year.\n",
    "#Note: the BPD changed systems early in September."
   ]
  },
  {
   "cell_type": "code",
   "execution_count": 81,
   "metadata": {},
   "outputs": [
    {
     "data": {
      "text/plain": [
       "Text(0.5, 1.0, 'Number of Crimes Committed vs. DISTRICT')"
      ]
     },
     "execution_count": 81,
     "metadata": {},
     "output_type": "execute_result"
    },
    {
     "data": {
      "image/png": "[encoded data removed]",
      "text/plain": [
       "<Figure size 360x360 with 1 Axes>"
      ]
     },
     "metadata": {
      "needs_background": "light"
     },
     "output_type": "display_data"
    }
   ],
   "source": [
    "sns.displot(dfClean2018['DISTRICT'], kde=False, bins=25)\n",
    "plt.ylabel('Number of Crimes Committed')\n",
    "plt.title('Number of Crimes Committed vs. DISTRICT')"
   ]
  },
  {
   "cell_type": "code",
   "execution_count": 24,
   "metadata": {},
   "outputs": [],
   "source": [
    "dfShoot = df1.drop(columns = ['INCIDENT_NUMBER', 'REPORTING_AREA', 'DAY_OF_WEEK', 'UCR_PART', 'Location', 'OFFENSE_DESCRIPTION', 'Lat', 'Long', 'HOUR', 'OCCURRED_ON_DATE', 'OFFENSE_CODE_GROUP', 'OFFENSE_CODE'])\n",
    "dfShoot1 = dfShoot.dropna()"
   ]
  },
  {
   "cell_type": "code",
   "execution_count": 25,
   "metadata": {},
   "outputs": [
    {
     "name": "stdout",
     "output_type": "stream",
     "text": [
      "The number of confirmed shootings committed in Boston in 2015 is 179\n"
     ]
    },
    {
     "data": {
      "text/html": [
       "<div>\n",
       "<style scoped>\n",
       "    .dataframe tbody tr th:only-of-type {\n",
       "        vertical-align: middle;\n",
       "    }\n",
       "\n",
       "    .dataframe tbody tr th {\n",
       "        vertical-align: top;\n",
       "    }\n",
       "\n",
       "    .dataframe thead th {\n",
       "        text-align: right;\n",
       "    }\n",
       "</style>\n",
       "<table border=\"1\" class=\"dataframe\">\n",
       "  <thead>\n",
       "    <tr style=\"text-align: right;\">\n",
       "      <th></th>\n",
       "      <th>DISTRICT</th>\n",
       "      <th>SHOOTING</th>\n",
       "      <th>YEAR</th>\n",
       "      <th>MONTH</th>\n",
       "      <th>STREET</th>\n",
       "    </tr>\n",
       "  </thead>\n",
       "  <tbody>\n",
       "    <tr>\n",
       "      <th>266275</th>\n",
       "      <td>A7</td>\n",
       "      <td>Y</td>\n",
       "      <td>2015</td>\n",
       "      <td>12</td>\n",
       "      <td>DECATUR ST</td>\n",
       "    </tr>\n",
       "    <tr>\n",
       "      <th>266280</th>\n",
       "      <td>B3</td>\n",
       "      <td>Y</td>\n",
       "      <td>2015</td>\n",
       "      <td>12</td>\n",
       "      <td>GLEASON ST</td>\n",
       "    </tr>\n",
       "    <tr>\n",
       "      <th>266665</th>\n",
       "      <td>B3</td>\n",
       "      <td>Y</td>\n",
       "      <td>2015</td>\n",
       "      <td>12</td>\n",
       "      <td>WILMORE ST</td>\n",
       "    </tr>\n",
       "    <tr>\n",
       "      <th>266666</th>\n",
       "      <td>B3</td>\n",
       "      <td>Y</td>\n",
       "      <td>2015</td>\n",
       "      <td>12</td>\n",
       "      <td>WILMORE ST</td>\n",
       "    </tr>\n",
       "    <tr>\n",
       "      <th>266667</th>\n",
       "      <td>B3</td>\n",
       "      <td>Y</td>\n",
       "      <td>2015</td>\n",
       "      <td>12</td>\n",
       "      <td>WILMORE ST</td>\n",
       "    </tr>\n",
       "    <tr>\n",
       "      <th>...</th>\n",
       "      <td>...</td>\n",
       "      <td>...</td>\n",
       "      <td>...</td>\n",
       "      <td>...</td>\n",
       "      <td>...</td>\n",
       "    </tr>\n",
       "    <tr>\n",
       "      <th>317369</th>\n",
       "      <td>B2</td>\n",
       "      <td>Y</td>\n",
       "      <td>2015</td>\n",
       "      <td>6</td>\n",
       "      <td>DUDLEY ST</td>\n",
       "    </tr>\n",
       "    <tr>\n",
       "      <th>317370</th>\n",
       "      <td>B2</td>\n",
       "      <td>Y</td>\n",
       "      <td>2015</td>\n",
       "      <td>6</td>\n",
       "      <td>DUDLEY ST</td>\n",
       "    </tr>\n",
       "    <tr>\n",
       "      <th>317371</th>\n",
       "      <td>B2</td>\n",
       "      <td>Y</td>\n",
       "      <td>2015</td>\n",
       "      <td>6</td>\n",
       "      <td>DUDLEY ST</td>\n",
       "    </tr>\n",
       "    <tr>\n",
       "      <th>317567</th>\n",
       "      <td>B2</td>\n",
       "      <td>Y</td>\n",
       "      <td>2015</td>\n",
       "      <td>6</td>\n",
       "      <td>KERR WAY</td>\n",
       "    </tr>\n",
       "    <tr>\n",
       "      <th>318306</th>\n",
       "      <td>B2</td>\n",
       "      <td>Y</td>\n",
       "      <td>2015</td>\n",
       "      <td>6</td>\n",
       "      <td>LAWRENCE AVE</td>\n",
       "    </tr>\n",
       "  </tbody>\n",
       "</table>\n",
       "<p>179 rows × 5 columns</p>\n",
       "</div>"
      ],
      "text/plain": [
       "       DISTRICT SHOOTING  YEAR  MONTH        STREET\n",
       "266275       A7        Y  2015     12    DECATUR ST\n",
       "266280       B3        Y  2015     12    GLEASON ST\n",
       "266665       B3        Y  2015     12    WILMORE ST\n",
       "266666       B3        Y  2015     12    WILMORE ST\n",
       "266667       B3        Y  2015     12    WILMORE ST\n",
       "...         ...      ...   ...    ...           ...\n",
       "317369       B2        Y  2015      6     DUDLEY ST\n",
       "317370       B2        Y  2015      6     DUDLEY ST\n",
       "317371       B2        Y  2015      6     DUDLEY ST\n",
       "317567       B2        Y  2015      6      KERR WAY\n",
       "318306       B2        Y  2015      6  LAWRENCE AVE\n",
       "\n",
       "[179 rows x 5 columns]"
      ]
     },
     "execution_count": 25,
     "metadata": {},
     "output_type": "execute_result"
    }
   ],
   "source": [
    "dfShoot2015 = dfShoot1[dfShoot1['YEAR'] == 2015]\n",
    "numShoot2015 = dfShoot2015.dropna().shape[0]\n",
    "print('The number of confirmed shootings committed in Boston in 2015 is', numShoot2015)\n",
    "dfShoot2015"
   ]
  },
  {
   "cell_type": "code",
   "execution_count": 84,
   "metadata": {},
   "outputs": [
    {
     "data": {
      "text/plain": [
       "Text(0.5, 1.0, 'Number of Shootings Committed vs. DISTRICT')"
      ]
     },
     "execution_count": 84,
     "metadata": {},
     "output_type": "execute_result"
    },
    {
     "data": {
      "image/png": "[encoded data removed]",
      "text/plain": [
       "<Figure size 360x360 with 1 Axes>"
      ]
     },
     "metadata": {
      "needs_background": "light"
     },
     "output_type": "display_data"
    }
   ],
   "source": [
    "sns.displot(dfShoot2015['DISTRICT'], kde=False, bins=25)\n",
    "plt.ylabel('Number of Shootings Committed')\n",
    "plt.title('Number of Shootings Committed vs. DISTRICT')"
   ]
  },
  {
   "cell_type": "code",
   "execution_count": 26,
   "metadata": {},
   "outputs": [
    {
     "name": "stdout",
     "output_type": "stream",
     "text": [
      "The number of confirmed shootings committed in Boston in 2016 is 277\n"
     ]
    },
    {
     "data": {
      "text/html": [
       "<div>\n",
       "<style scoped>\n",
       "    .dataframe tbody tr th:only-of-type {\n",
       "        vertical-align: middle;\n",
       "    }\n",
       "\n",
       "    .dataframe tbody tr th {\n",
       "        vertical-align: top;\n",
       "    }\n",
       "\n",
       "    .dataframe thead th {\n",
       "        text-align: right;\n",
       "    }\n",
       "</style>\n",
       "<table border=\"1\" class=\"dataframe\">\n",
       "  <thead>\n",
       "    <tr style=\"text-align: right;\">\n",
       "      <th></th>\n",
       "      <th>DISTRICT</th>\n",
       "      <th>SHOOTING</th>\n",
       "      <th>YEAR</th>\n",
       "      <th>MONTH</th>\n",
       "      <th>STREET</th>\n",
       "    </tr>\n",
       "  </thead>\n",
       "  <tbody>\n",
       "    <tr>\n",
       "      <th>167458</th>\n",
       "      <td>C11</td>\n",
       "      <td>Y</td>\n",
       "      <td>2016</td>\n",
       "      <td>12</td>\n",
       "      <td>BOWDOIN ST</td>\n",
       "    </tr>\n",
       "    <tr>\n",
       "      <th>167912</th>\n",
       "      <td>C11</td>\n",
       "      <td>Y</td>\n",
       "      <td>2016</td>\n",
       "      <td>12</td>\n",
       "      <td>DRAPER ST</td>\n",
       "    </tr>\n",
       "    <tr>\n",
       "      <th>168987</th>\n",
       "      <td>B3</td>\n",
       "      <td>Y</td>\n",
       "      <td>2016</td>\n",
       "      <td>12</td>\n",
       "      <td>GLEASON ST</td>\n",
       "    </tr>\n",
       "    <tr>\n",
       "      <th>169272</th>\n",
       "      <td>B3</td>\n",
       "      <td>Y</td>\n",
       "      <td>2016</td>\n",
       "      <td>12</td>\n",
       "      <td>COLONIAL AVE</td>\n",
       "    </tr>\n",
       "    <tr>\n",
       "      <th>170542</th>\n",
       "      <td>B3</td>\n",
       "      <td>Y</td>\n",
       "      <td>2016</td>\n",
       "      <td>12</td>\n",
       "      <td>CALLENDER ST</td>\n",
       "    </tr>\n",
       "    <tr>\n",
       "      <th>...</th>\n",
       "      <td>...</td>\n",
       "      <td>...</td>\n",
       "      <td>...</td>\n",
       "      <td>...</td>\n",
       "      <td>...</td>\n",
       "    </tr>\n",
       "    <tr>\n",
       "      <th>263760</th>\n",
       "      <td>B3</td>\n",
       "      <td>Y</td>\n",
       "      <td>2016</td>\n",
       "      <td>1</td>\n",
       "      <td>BLUE HILL AVE</td>\n",
       "    </tr>\n",
       "    <tr>\n",
       "      <th>264131</th>\n",
       "      <td>C11</td>\n",
       "      <td>Y</td>\n",
       "      <td>2016</td>\n",
       "      <td>5</td>\n",
       "      <td>MOUNT BOWDOIN TER</td>\n",
       "    </tr>\n",
       "    <tr>\n",
       "      <th>265935</th>\n",
       "      <td>B3</td>\n",
       "      <td>Y</td>\n",
       "      <td>2016</td>\n",
       "      <td>1</td>\n",
       "      <td>BLUE HILL AVE</td>\n",
       "    </tr>\n",
       "    <tr>\n",
       "      <th>265936</th>\n",
       "      <td>B3</td>\n",
       "      <td>Y</td>\n",
       "      <td>2016</td>\n",
       "      <td>1</td>\n",
       "      <td>BLUE HILL AVE</td>\n",
       "    </tr>\n",
       "    <tr>\n",
       "      <th>265937</th>\n",
       "      <td>B3</td>\n",
       "      <td>Y</td>\n",
       "      <td>2016</td>\n",
       "      <td>1</td>\n",
       "      <td>BLUE HILL AVE</td>\n",
       "    </tr>\n",
       "  </tbody>\n",
       "</table>\n",
       "<p>277 rows × 5 columns</p>\n",
       "</div>"
      ],
      "text/plain": [
       "       DISTRICT SHOOTING  YEAR  MONTH             STREET\n",
       "167458      C11        Y  2016     12         BOWDOIN ST\n",
       "167912      C11        Y  2016     12          DRAPER ST\n",
       "168987       B3        Y  2016     12         GLEASON ST\n",
       "169272       B3        Y  2016     12       COLONIAL AVE\n",
       "170542       B3        Y  2016     12       CALLENDER ST\n",
       "...         ...      ...   ...    ...                ...\n",
       "263760       B3        Y  2016      1      BLUE HILL AVE\n",
       "264131      C11        Y  2016      5  MOUNT BOWDOIN TER\n",
       "265935       B3        Y  2016      1      BLUE HILL AVE\n",
       "265936       B3        Y  2016      1      BLUE HILL AVE\n",
       "265937       B3        Y  2016      1      BLUE HILL AVE\n",
       "\n",
       "[277 rows x 5 columns]"
      ]
     },
     "execution_count": 26,
     "metadata": {},
     "output_type": "execute_result"
    }
   ],
   "source": [
    "dfShoot2016 = dfShoot1[dfShoot1['YEAR'] == 2016]\n",
    "numShoot2016 = dfShoot2016.dropna().shape[0]\n",
    "print('The number of confirmed shootings committed in Boston in 2016 is', numShoot2016)\n",
    "dfShoot2016"
   ]
  },
  {
   "cell_type": "code",
   "execution_count": 86,
   "metadata": {},
   "outputs": [
    {
     "data": {
      "text/plain": [
       "Text(0.5, 1.0, 'Number of Shootings Committed vs. DISTRICT')"
      ]
     },
     "execution_count": 86,
     "metadata": {},
     "output_type": "execute_result"
    },
    {
     "data": {
      "image/png": "[encoded data removed]",
      "text/plain": [
       "<Figure size 360x360 with 1 Axes>"
      ]
     },
     "metadata": {
      "needs_background": "light"
     },
     "output_type": "display_data"
    }
   ],
   "source": [
    "sns.displot(dfShoot2016['DISTRICT'], kde=False, bins=25)\n",
    "plt.ylabel('Number of Shootings Committed')\n",
    "plt.title('Number of Shootings Committed vs. DISTRICT')"
   ]
  },
  {
   "cell_type": "code",
   "execution_count": 27,
   "metadata": {},
   "outputs": [
    {
     "name": "stdout",
     "output_type": "stream",
     "text": [
      "The number of confirmed shootings committed in Boston in 2017 is 361\n"
     ]
    },
    {
     "data": {
      "text/html": [
       "<div>\n",
       "<style scoped>\n",
       "    .dataframe tbody tr th:only-of-type {\n",
       "        vertical-align: middle;\n",
       "    }\n",
       "\n",
       "    .dataframe tbody tr th {\n",
       "        vertical-align: top;\n",
       "    }\n",
       "\n",
       "    .dataframe thead th {\n",
       "        text-align: right;\n",
       "    }\n",
       "</style>\n",
       "<table border=\"1\" class=\"dataframe\">\n",
       "  <thead>\n",
       "    <tr style=\"text-align: right;\">\n",
       "      <th></th>\n",
       "      <th>DISTRICT</th>\n",
       "      <th>SHOOTING</th>\n",
       "      <th>YEAR</th>\n",
       "      <th>MONTH</th>\n",
       "      <th>STREET</th>\n",
       "    </tr>\n",
       "  </thead>\n",
       "  <tbody>\n",
       "    <tr>\n",
       "      <th>66499</th>\n",
       "      <td>B2</td>\n",
       "      <td>Y</td>\n",
       "      <td>2017</td>\n",
       "      <td>12</td>\n",
       "      <td>ELDER ST</td>\n",
       "    </tr>\n",
       "    <tr>\n",
       "      <th>66880</th>\n",
       "      <td>E18</td>\n",
       "      <td>Y</td>\n",
       "      <td>2017</td>\n",
       "      <td>12</td>\n",
       "      <td>FLORIAN ST</td>\n",
       "    </tr>\n",
       "    <tr>\n",
       "      <th>67672</th>\n",
       "      <td>C11</td>\n",
       "      <td>Y</td>\n",
       "      <td>2017</td>\n",
       "      <td>12</td>\n",
       "      <td>BELFORT ST</td>\n",
       "    </tr>\n",
       "    <tr>\n",
       "      <th>67699</th>\n",
       "      <td>B3</td>\n",
       "      <td>Y</td>\n",
       "      <td>2017</td>\n",
       "      <td>12</td>\n",
       "      <td>WELLINGTON HILL ST</td>\n",
       "    </tr>\n",
       "    <tr>\n",
       "      <th>67700</th>\n",
       "      <td>B3</td>\n",
       "      <td>Y</td>\n",
       "      <td>2017</td>\n",
       "      <td>12</td>\n",
       "      <td>WELLINGTON HILL ST</td>\n",
       "    </tr>\n",
       "    <tr>\n",
       "      <th>...</th>\n",
       "      <td>...</td>\n",
       "      <td>...</td>\n",
       "      <td>...</td>\n",
       "      <td>...</td>\n",
       "      <td>...</td>\n",
       "    </tr>\n",
       "    <tr>\n",
       "      <th>167108</th>\n",
       "      <td>B3</td>\n",
       "      <td>Y</td>\n",
       "      <td>2017</td>\n",
       "      <td>1</td>\n",
       "      <td>BROWNING AVE</td>\n",
       "    </tr>\n",
       "    <tr>\n",
       "      <th>197877</th>\n",
       "      <td>B2</td>\n",
       "      <td>Y</td>\n",
       "      <td>2017</td>\n",
       "      <td>2</td>\n",
       "      <td>WASHINGTON ST</td>\n",
       "    </tr>\n",
       "    <tr>\n",
       "      <th>197878</th>\n",
       "      <td>B2</td>\n",
       "      <td>Y</td>\n",
       "      <td>2017</td>\n",
       "      <td>2</td>\n",
       "      <td>WASHINGTON ST</td>\n",
       "    </tr>\n",
       "    <tr>\n",
       "      <th>197879</th>\n",
       "      <td>B2</td>\n",
       "      <td>Y</td>\n",
       "      <td>2017</td>\n",
       "      <td>2</td>\n",
       "      <td>WASHINGTON ST</td>\n",
       "    </tr>\n",
       "    <tr>\n",
       "      <th>197880</th>\n",
       "      <td>B2</td>\n",
       "      <td>Y</td>\n",
       "      <td>2017</td>\n",
       "      <td>2</td>\n",
       "      <td>WASHINGTON ST</td>\n",
       "    </tr>\n",
       "  </tbody>\n",
       "</table>\n",
       "<p>361 rows × 5 columns</p>\n",
       "</div>"
      ],
      "text/plain": [
       "       DISTRICT SHOOTING  YEAR  MONTH              STREET\n",
       "66499        B2        Y  2017     12            ELDER ST\n",
       "66880       E18        Y  2017     12          FLORIAN ST\n",
       "67672       C11        Y  2017     12          BELFORT ST\n",
       "67699        B3        Y  2017     12  WELLINGTON HILL ST\n",
       "67700        B3        Y  2017     12  WELLINGTON HILL ST\n",
       "...         ...      ...   ...    ...                 ...\n",
       "167108       B3        Y  2017      1        BROWNING AVE\n",
       "197877       B2        Y  2017      2       WASHINGTON ST\n",
       "197878       B2        Y  2017      2       WASHINGTON ST\n",
       "197879       B2        Y  2017      2       WASHINGTON ST\n",
       "197880       B2        Y  2017      2       WASHINGTON ST\n",
       "\n",
       "[361 rows x 5 columns]"
      ]
     },
     "execution_count": 27,
     "metadata": {},
     "output_type": "execute_result"
    }
   ],
   "source": [
    "dfShoot2017 = dfShoot1[dfShoot1['YEAR'] == 2017]\n",
    "numShoot2017 = dfShoot2017.dropna().shape[0]\n",
    "print('The number of confirmed shootings committed in Boston in 2017 is', numShoot2017)\n",
    "dfShoot2017"
   ]
  },
  {
   "cell_type": "code",
   "execution_count": 88,
   "metadata": {},
   "outputs": [
    {
     "data": {
      "text/plain": [
       "Text(0.5, 1.0, 'Number of Shootings Committed vs. DISTRICT')"
      ]
     },
     "execution_count": 88,
     "metadata": {},
     "output_type": "execute_result"
    },
    {
     "data": {
      "image/png": "[encoded data removed]",
      "text/plain": [
       "<Figure size 360x360 with 1 Axes>"
      ]
     },
     "metadata": {
      "needs_background": "light"
     },
     "output_type": "display_data"
    }
   ],
   "source": [
    "sns.displot(dfShoot2017['DISTRICT'], kde=False, bins=25)\n",
    "plt.ylabel('Number of Shootings Committed')\n",
    "plt.title('Number of Shootings Committed vs. DISTRICT')"
   ]
  },
  {
   "cell_type": "code",
   "execution_count": 28,
   "metadata": {},
   "outputs": [
    {
     "name": "stdout",
     "output_type": "stream",
     "text": [
      "The number of confirmed shootings committed in Boston in 2018 is 177\n"
     ]
    },
    {
     "data": {
      "text/html": [
       "<div>\n",
       "<style scoped>\n",
       "    .dataframe tbody tr th:only-of-type {\n",
       "        vertical-align: middle;\n",
       "    }\n",
       "\n",
       "    .dataframe tbody tr th {\n",
       "        vertical-align: top;\n",
       "    }\n",
       "\n",
       "    .dataframe thead th {\n",
       "        text-align: right;\n",
       "    }\n",
       "</style>\n",
       "<table border=\"1\" class=\"dataframe\">\n",
       "  <thead>\n",
       "    <tr style=\"text-align: right;\">\n",
       "      <th></th>\n",
       "      <th>DISTRICT</th>\n",
       "      <th>SHOOTING</th>\n",
       "      <th>YEAR</th>\n",
       "      <th>MONTH</th>\n",
       "      <th>STREET</th>\n",
       "    </tr>\n",
       "  </thead>\n",
       "  <tbody>\n",
       "    <tr>\n",
       "      <th>1295</th>\n",
       "      <td>E18</td>\n",
       "      <td>Y</td>\n",
       "      <td>2018</td>\n",
       "      <td>8</td>\n",
       "      <td>HILLIS RD</td>\n",
       "    </tr>\n",
       "    <tr>\n",
       "      <th>1860</th>\n",
       "      <td>B2</td>\n",
       "      <td>Y</td>\n",
       "      <td>2018</td>\n",
       "      <td>8</td>\n",
       "      <td>DUDLEY ST</td>\n",
       "    </tr>\n",
       "    <tr>\n",
       "      <th>3259</th>\n",
       "      <td>B2</td>\n",
       "      <td>Y</td>\n",
       "      <td>2018</td>\n",
       "      <td>8</td>\n",
       "      <td>HOLLANDER ST</td>\n",
       "    </tr>\n",
       "    <tr>\n",
       "      <th>3260</th>\n",
       "      <td>B2</td>\n",
       "      <td>Y</td>\n",
       "      <td>2018</td>\n",
       "      <td>8</td>\n",
       "      <td>HOLLANDER ST</td>\n",
       "    </tr>\n",
       "    <tr>\n",
       "      <th>4107</th>\n",
       "      <td>A15</td>\n",
       "      <td>Y</td>\n",
       "      <td>2018</td>\n",
       "      <td>8</td>\n",
       "      <td>MCNULTY CT</td>\n",
       "    </tr>\n",
       "    <tr>\n",
       "      <th>...</th>\n",
       "      <td>...</td>\n",
       "      <td>...</td>\n",
       "      <td>...</td>\n",
       "      <td>...</td>\n",
       "      <td>...</td>\n",
       "    </tr>\n",
       "    <tr>\n",
       "      <th>66085</th>\n",
       "      <td>C6</td>\n",
       "      <td>Y</td>\n",
       "      <td>2018</td>\n",
       "      <td>1</td>\n",
       "      <td>B ST</td>\n",
       "    </tr>\n",
       "    <tr>\n",
       "      <th>66086</th>\n",
       "      <td>C6</td>\n",
       "      <td>Y</td>\n",
       "      <td>2018</td>\n",
       "      <td>1</td>\n",
       "      <td>B ST</td>\n",
       "    </tr>\n",
       "    <tr>\n",
       "      <th>66087</th>\n",
       "      <td>C6</td>\n",
       "      <td>Y</td>\n",
       "      <td>2018</td>\n",
       "      <td>1</td>\n",
       "      <td>B ST</td>\n",
       "    </tr>\n",
       "    <tr>\n",
       "      <th>66088</th>\n",
       "      <td>C6</td>\n",
       "      <td>Y</td>\n",
       "      <td>2018</td>\n",
       "      <td>1</td>\n",
       "      <td>B ST</td>\n",
       "    </tr>\n",
       "    <tr>\n",
       "      <th>66089</th>\n",
       "      <td>C6</td>\n",
       "      <td>Y</td>\n",
       "      <td>2018</td>\n",
       "      <td>1</td>\n",
       "      <td>B ST</td>\n",
       "    </tr>\n",
       "  </tbody>\n",
       "</table>\n",
       "<p>177 rows × 5 columns</p>\n",
       "</div>"
      ],
      "text/plain": [
       "      DISTRICT SHOOTING  YEAR  MONTH        STREET\n",
       "1295       E18        Y  2018      8     HILLIS RD\n",
       "1860        B2        Y  2018      8     DUDLEY ST\n",
       "3259        B2        Y  2018      8  HOLLANDER ST\n",
       "3260        B2        Y  2018      8  HOLLANDER ST\n",
       "4107       A15        Y  2018      8    MCNULTY CT\n",
       "...        ...      ...   ...    ...           ...\n",
       "66085       C6        Y  2018      1          B ST\n",
       "66086       C6        Y  2018      1          B ST\n",
       "66087       C6        Y  2018      1          B ST\n",
       "66088       C6        Y  2018      1          B ST\n",
       "66089       C6        Y  2018      1          B ST\n",
       "\n",
       "[177 rows x 5 columns]"
      ]
     },
     "execution_count": 28,
     "metadata": {},
     "output_type": "execute_result"
    }
   ],
   "source": [
    "dfShoot2018 = dfShoot1[dfShoot1['YEAR'] == 2018]\n",
    "numShoot2018 = dfShoot2018.dropna().shape[0]\n",
    "print('The number of confirmed shootings committed in Boston in 2018 is', numShoot2018)\n",
    "dfShoot2018"
   ]
  },
  {
   "cell_type": "code",
   "execution_count": 90,
   "metadata": {},
   "outputs": [
    {
     "data": {
      "text/plain": [
       "Text(0.5, 1.0, 'Number of Shootings Committed vs. DISTRICT')"
      ]
     },
     "execution_count": 90,
     "metadata": {},
     "output_type": "execute_result"
    },
    {
     "data": {
      "image/png": "[encoded data removed]",
      "text/plain": [
       "<Figure size 360x360 with 1 Axes>"
      ]
     },
     "metadata": {
      "needs_background": "light"
     },
     "output_type": "display_data"
    }
   ],
   "source": [
    "sns.displot(dfShoot2018['DISTRICT'], kde=False, bins=25)\n",
    "plt.ylabel('Number of Shootings Committed')\n",
    "plt.title('Number of Shootings Committed vs. DISTRICT')"
   ]
  },
  {
   "cell_type": "code",
   "execution_count": null,
   "metadata": {},
   "outputs": [],
   "source": []
  }
 ],
 "metadata": {
  "kernelspec": {
   "display_name": "Python 3",
   "language": "python",
   "name": "python3"
  },
  "language_info": {
   "codemirror_mode": {
    "name": "ipython",
    "version": 3
   },
   "file_extension": ".py",
   "mimetype": "text/x-python",
   "name": "python",
   "nbconvert_exporter": "python",
   "pygments_lexer": "ipython3",
   "version": "3.9.5"
  }
 },
 "nbformat": 4,
 "nbformat_minor": 4
}
