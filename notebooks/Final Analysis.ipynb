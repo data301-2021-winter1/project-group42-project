{
 "cells": [
  {
   "cell_type": "markdown",
   "id": "36fbf925-3a65-4dd3-944e-9cccac226bc4",
   "metadata": {
    "tags": []
   },
   "source": [
    "## How effective are the Boston Police Department (BPD) at reducing crime on a month-to-month and year-to-year basis? Are they more effective in limiting crime in criminal hot-spots? Do major crimes such as a shooting draw more attenton from the BPD, i.e, are they more likely to reduce crime in areas with higher major-crime rates?"
   ]
  },
  {
   "cell_type": "code",
   "execution_count": 3,
   "id": "8ed9637c-44ff-40b5-adcf-37fd559a302e",
   "metadata": {},
   "outputs": [
    {
     "data": {
      "text/html": [
       "<div>\n",
       "<style scoped>\n",
       "    .dataframe tbody tr th:only-of-type {\n",
       "        vertical-align: middle;\n",
       "    }\n",
       "\n",
       "    .dataframe tbody tr th {\n",
       "        vertical-align: top;\n",
       "    }\n",
       "\n",
       "    .dataframe thead th {\n",
       "        text-align: right;\n",
       "    }\n",
       "</style>\n",
       "<table border=\"1\" class=\"dataframe\">\n",
       "  <thead>\n",
       "    <tr style=\"text-align: right;\">\n",
       "      <th></th>\n",
       "      <th>OFFENSE_CODE_GROUP</th>\n",
       "      <th>DISTRICT</th>\n",
       "      <th>SHOOTING</th>\n",
       "      <th>YEAR</th>\n",
       "      <th>MONTH</th>\n",
       "      <th>STREET</th>\n",
       "    </tr>\n",
       "  </thead>\n",
       "  <tbody>\n",
       "    <tr>\n",
       "      <th>0</th>\n",
       "      <td>Larceny</td>\n",
       "      <td>D14</td>\n",
       "      <td>N</td>\n",
       "      <td>2018</td>\n",
       "      <td>9</td>\n",
       "      <td>LINCOLN ST</td>\n",
       "    </tr>\n",
       "    <tr>\n",
       "      <th>1</th>\n",
       "      <td>Vandalism</td>\n",
       "      <td>C11</td>\n",
       "      <td>N</td>\n",
       "      <td>2018</td>\n",
       "      <td>8</td>\n",
       "      <td>HECLA ST</td>\n",
       "    </tr>\n",
       "    <tr>\n",
       "      <th>2</th>\n",
       "      <td>Towed</td>\n",
       "      <td>D4</td>\n",
       "      <td>N</td>\n",
       "      <td>2018</td>\n",
       "      <td>9</td>\n",
       "      <td>CAZENOVE ST</td>\n",
       "    </tr>\n",
       "    <tr>\n",
       "      <th>3</th>\n",
       "      <td>Investigate Property</td>\n",
       "      <td>D4</td>\n",
       "      <td>N</td>\n",
       "      <td>2018</td>\n",
       "      <td>9</td>\n",
       "      <td>NEWCOMB ST</td>\n",
       "    </tr>\n",
       "    <tr>\n",
       "      <th>4</th>\n",
       "      <td>Investigate Property</td>\n",
       "      <td>B3</td>\n",
       "      <td>N</td>\n",
       "      <td>2018</td>\n",
       "      <td>9</td>\n",
       "      <td>DELHI ST</td>\n",
       "    </tr>\n",
       "    <tr>\n",
       "      <th>...</th>\n",
       "      <td>...</td>\n",
       "      <td>...</td>\n",
       "      <td>...</td>\n",
       "      <td>...</td>\n",
       "      <td>...</td>\n",
       "      <td>...</td>\n",
       "    </tr>\n",
       "    <tr>\n",
       "      <th>319068</th>\n",
       "      <td>Warrant Arrests</td>\n",
       "      <td>D4</td>\n",
       "      <td>N</td>\n",
       "      <td>2016</td>\n",
       "      <td>6</td>\n",
       "      <td>COVENTRY ST</td>\n",
       "    </tr>\n",
       "    <tr>\n",
       "      <th>319069</th>\n",
       "      <td>Homicide</td>\n",
       "      <td>E18</td>\n",
       "      <td>N</td>\n",
       "      <td>2015</td>\n",
       "      <td>7</td>\n",
       "      <td>RIVER ST</td>\n",
       "    </tr>\n",
       "    <tr>\n",
       "      <th>319070</th>\n",
       "      <td>Warrant Arrests</td>\n",
       "      <td>E18</td>\n",
       "      <td>N</td>\n",
       "      <td>2015</td>\n",
       "      <td>7</td>\n",
       "      <td>RIVER ST</td>\n",
       "    </tr>\n",
       "    <tr>\n",
       "      <th>319071</th>\n",
       "      <td>Warrant Arrests</td>\n",
       "      <td>E13</td>\n",
       "      <td>N</td>\n",
       "      <td>2016</td>\n",
       "      <td>5</td>\n",
       "      <td>NEW WASHINGTON ST</td>\n",
       "    </tr>\n",
       "    <tr>\n",
       "      <th>319072</th>\n",
       "      <td>Warrant Arrests</td>\n",
       "      <td>D4</td>\n",
       "      <td>N</td>\n",
       "      <td>2015</td>\n",
       "      <td>6</td>\n",
       "      <td>WASHINGTON ST</td>\n",
       "    </tr>\n",
       "  </tbody>\n",
       "</table>\n",
       "<p>307484 rows × 6 columns</p>\n",
       "</div>"
      ],
      "text/plain": [
       "          OFFENSE_CODE_GROUP DISTRICT SHOOTING  YEAR  MONTH             STREET\n",
       "0                    Larceny      D14        N  2018      9         LINCOLN ST\n",
       "1                  Vandalism      C11        N  2018      8           HECLA ST\n",
       "2                      Towed       D4        N  2018      9        CAZENOVE ST\n",
       "3       Investigate Property       D4        N  2018      9         NEWCOMB ST\n",
       "4       Investigate Property       B3        N  2018      9           DELHI ST\n",
       "...                      ...      ...      ...   ...    ...                ...\n",
       "319068       Warrant Arrests       D4        N  2016      6        COVENTRY ST\n",
       "319069              Homicide      E18        N  2015      7           RIVER ST\n",
       "319070       Warrant Arrests      E18        N  2015      7           RIVER ST\n",
       "319071       Warrant Arrests      E13        N  2016      5  NEW WASHINGTON ST\n",
       "319072       Warrant Arrests       D4        N  2015      6      WASHINGTON ST\n",
       "\n",
       "[307484 rows x 6 columns]"
      ]
     },
     "execution_count": 3,
     "metadata": {},
     "output_type": "execute_result"
    }
   ],
   "source": [
    "import seaborn as sns\n",
    "import pandas as pd\n",
    "import numpy as np\n",
    "import matplotlib.pylab as plt\n",
    "\n",
    "from Reece1 import project_functions1\n",
    "df = project_functions1.load_and_process('../data/raw/crime.csv')\n",
    "df"
   ]
  },
  {
   "cell_type": "markdown",
   "id": "900577be-9963-4a55-a852-4995d4ca5fd2",
   "metadata": {
    "tags": []
   },
   "source": [
    "After thorough investigation into the effectiveness of the Boston Police Department it is apparant the BPD have been able to minimize criminal activity in Boston on a year-to-year basis. This is reflected in the Number of Crimes Committed vs. Year bar chart."
   ]
  },
  {
   "cell_type": "code",
   "execution_count": 4,
   "id": "c5113408-dbd7-4a66-bf4e-127fe2f689ae",
   "metadata": {},
   "outputs": [
    {
     "data": {
      "image/png": "[encoded data removed]",
      "text/plain": [
       "<Figure size 432x288 with 1 Axes>"
      ]
     },
     "metadata": {
      "needs_background": "light"
     },
     "output_type": "display_data"
    }
   ],
   "source": [
    "countVsYear = sns.countplot(y ='YEAR' ,data = df)"
   ]
  },
  {
   "cell_type": "markdown",
   "id": "22fc09fe-4700-46b6-8d7f-50dc1379898e",
   "metadata": {
    "tags": []
   },
   "source": [
    "While 2017 does appear to have the worst recorded year regarding criminal activity, this is slightly misleading as the BPD only begun using the system in June of 2015 and stopped during September of 2018. Thus, after calculating the average amount of crimes per month in 2015 and 2018, we are able to gain a clearer picture of the year-to-year crime rates in Boston, which actually shows criminal activity has been decreasing.\n",
    "\n",
    "However, when looking at the crime rate on a monthly interval, the criminal activity follows a similar trend each year, with very little reduction occuring during the most active months, illustrated by the monthly bar charts. "
   ]
  },
  {
   "cell_type": "code",
   "execution_count": 5,
   "id": "3dc89fb4-99f4-44d1-9a3d-c32fe9a4cc11",
   "metadata": {},
   "outputs": [
    {
     "name": "stdout",
     "output_type": "stream",
     "text": [
      "[Text(0.5, 1.0, 'Month vs. Number of Crimes Reported 2015')]\n"
     ]
    },
    {
     "data": {
      "image/png": "[encoded data removed]",
      "text/plain": [
       "<Figure size 432x288 with 1 Axes>"
      ]
     },
     "metadata": {
      "needs_background": "light"
     },
     "output_type": "display_data"
    }
   ],
   "source": [
    "countVsMonth2015 = sns.countplot(y ='MONTH',data = df[df['YEAR'] == 2015]).set(title = 'Month vs. Number of Crimes Reported 2015')\n",
    "print(countVsMonth2015)"
   ]
  },
  {
   "cell_type": "code",
   "execution_count": 6,
   "id": "1e52856e-f851-430f-8fc8-044259c108cf",
   "metadata": {},
   "outputs": [
    {
     "name": "stdout",
     "output_type": "stream",
     "text": [
      "[Text(0.5, 1.0, 'Month vs. Number of Crimes Reported 2016')]\n"
     ]
    },
    {
     "data": {
      "image/png": "[encoded data removed]",
      "text/plain": [
       "<Figure size 432x288 with 1 Axes>"
      ]
     },
     "metadata": {
      "needs_background": "light"
     },
     "output_type": "display_data"
    }
   ],
   "source": [
    "countVsMonth2016 = sns.countplot(y ='MONTH' ,data = df[df['YEAR'] == 2016]).set(title = 'Month vs. Number of Crimes Reported 2016')\n",
    "print(countVsMonth2016)"
   ]
  },
  {
   "cell_type": "code",
   "execution_count": 7,
   "id": "f55840cd-4ba6-4b31-898a-5c4fce1f7eea",
   "metadata": {},
   "outputs": [
    {
     "name": "stdout",
     "output_type": "stream",
     "text": [
      "[Text(0.5, 1.0, 'Month vs. Number of Crimes Reported 2017')]\n"
     ]
    },
    {
     "data": {
      "image/png": "[encoded data removed]",
      "text/plain": [
       "<Figure size 432x288 with 1 Axes>"
      ]
     },
     "metadata": {
      "needs_background": "light"
     },
     "output_type": "display_data"
    }
   ],
   "source": [
    "countVsMonth2017 = sns.countplot(y ='MONTH' ,data = df[df['YEAR'] == 2017]).set(title = 'Month vs. Number of Crimes Reported 2017')\n",
    "print(countVsMonth2017)"
   ]
  },
  {
   "cell_type": "code",
   "execution_count": 8,
   "id": "98d64950-1a65-4f7c-a261-b1902107bfbc",
   "metadata": {},
   "outputs": [
    {
     "name": "stdout",
     "output_type": "stream",
     "text": [
      "[Text(0.5, 1.0, 'Month vs. Number of Crimes Reported 2018')]\n"
     ]
    },
    {
     "data": {
      "image/png": "[encoded data removed]",
      "text/plain": [
       "<Figure size 432x288 with 1 Axes>"
      ]
     },
     "metadata": {
      "needs_background": "light"
     },
     "output_type": "display_data"
    }
   ],
   "source": [
    "countVsMonth2018 = sns.countplot(y ='MONTH' ,data = df[df['YEAR'] == 2018]).set(title = 'Month vs. Number of Crimes Reported 2018')\n",
    "print(countVsMonth2018)"
   ]
  },
  {
   "cell_type": "markdown",
   "id": "d3b0500f-9adf-42e0-b966-32581683bee3",
   "metadata": {
    "tags": []
   },
   "source": [
    "Hence, we can conclude that whenever there is a large amount of reported crimes in Boston, the BPD are ineffective at reducing crime.\n",
    "Although, in months where the number of reported crimes is below 8000, the BPD are effective in eliminating criminal activity as the numbers steadily decrease year-to-year for those months specifically. "
   ]
  },
  {
   "cell_type": "markdown",
   "id": "72c5f9d4-f291-438c-be49-a7ca3773a747",
   "metadata": {
    "tags": []
   },
   "source": [
    "This trend set by the BPD continues as we measure the number of crimes reported agaisnt each district of Boston."
   ]
  },
  {
   "cell_type": "code",
   "execution_count": 10,
   "id": "3277cdca-a77f-4d2c-a56a-97e78c4ee3a4",
   "metadata": {},
   "outputs": [
    {
     "data": {
      "text/plain": [
       "Text(0.5, 1.0, 'Number of Crimes Committed vs. DISTRICT 2015')"
      ]
     },
     "execution_count": 10,
     "metadata": {},
     "output_type": "execute_result"
    },
    {
     "data": {
      "image/png": "[encoded data removed]",
      "text/plain": [
       "<Figure size 360x360 with 1 Axes>"
      ]
     },
     "metadata": {
      "needs_background": "light"
     },
     "output_type": "display_data"
    }
   ],
   "source": [
    "sns.displot(df[df['YEAR'] == 2015]['DISTRICT'], kde=False, bins=25)\n",
    "plt.ylabel('Number of Crimes Committed')\n",
    "plt.title('Number of Crimes Committed vs. DISTRICT 2015')"
   ]
  },
  {
   "cell_type": "code",
   "execution_count": 11,
   "id": "813aca58-e448-43c3-8fd2-319bac13bc54",
   "metadata": {},
   "outputs": [
    {
     "data": {
      "text/plain": [
       "Text(0.5, 1.0, 'Number of Crimes Committed vs. DISTRICT 2016')"
      ]
     },
     "execution_count": 11,
     "metadata": {},
     "output_type": "execute_result"
    },
    {
     "data": {
      "image/png": "[encoded data removed]",
      "text/plain": [
       "<Figure size 360x360 with 1 Axes>"
      ]
     },
     "metadata": {
      "needs_background": "light"
     },
     "output_type": "display_data"
    }
   ],
   "source": [
    "sns.displot(df[df['YEAR'] == 2016]['DISTRICT'], kde=False, bins=25)\n",
    "plt.ylabel('Number of Crimes Committed')\n",
    "plt.title('Number of Crimes Committed vs. DISTRICT 2016')"
   ]
  },
  {
   "cell_type": "code",
   "execution_count": 12,
   "id": "2fbf1aa2-dac0-47d6-bb23-5b7ee103fe8c",
   "metadata": {},
   "outputs": [
    {
     "data": {
      "text/plain": [
       "Text(0.5, 1.0, 'Number of Crimes Committed vs. DISTRICT 2017')"
      ]
     },
     "execution_count": 12,
     "metadata": {},
     "output_type": "execute_result"
    },
    {
     "data": {
      "image/png": "[encoded data removed]",
      "text/plain": [
       "<Figure size 360x360 with 1 Axes>"
      ]
     },
     "metadata": {
      "needs_background": "light"
     },
     "output_type": "display_data"
    }
   ],
   "source": [
    "sns.displot(df[df['YEAR'] == 2017]['DISTRICT'], kde=False, bins=25)\n",
    "plt.ylabel('Number of Crimes Committed')\n",
    "plt.title('Number of Crimes Committed vs. DISTRICT 2017')"
   ]
  },
  {
   "cell_type": "code",
   "execution_count": 13,
   "id": "7e8bf5dd-7c4a-4cdb-853b-0b450604d7eb",
   "metadata": {},
   "outputs": [
    {
     "data": {
      "text/plain": [
       "Text(0.5, 1.0, 'Number of Crimes Committed vs. DISTRICT 2018')"
      ]
     },
     "execution_count": 13,
     "metadata": {},
     "output_type": "execute_result"
    },
    {
     "data": {
      "image/png": "[encoded data removed]",
      "text/plain": [
       "<Figure size 360x360 with 1 Axes>"
      ]
     },
     "metadata": {
      "needs_background": "light"
     },
     "output_type": "display_data"
    }
   ],
   "source": [
    "sns.displot(df[df['YEAR'] == 2018]['DISTRICT'], kde=False, bins=25)\n",
    "plt.ylabel('Number of Crimes Committed')\n",
    "plt.title('Number of Crimes Committed vs. DISTRICT 2018')"
   ]
  },
  {
   "cell_type": "code",
   "execution_count": null,
   "id": "aec7ae5c-c997-4505-b927-b44b39ae53b8",
   "metadata": {},
   "outputs": [],
   "source": []
  },
  {
   "cell_type": "markdown",
   "id": "7a8a9573-a1c9-4d5e-84b4-8e1424fb0eed",
   "metadata": {
    "tags": []
   },
   "source": [
    "Finally, in areas with high activity for major crimes such as shootings, it is clear the previously established trends continue as the more dangerous areas continue to be dangerous while the districts with lower shooting rates decrease as the years go by."
   ]
  },
  {
   "cell_type": "markdown",
   "id": "4f1d18ae-ec3f-4130-b688-85d6dcb9d811",
   "metadata": {
    "tags": []
   },
   "source": [
    "Clearly, in criminal hot-spots such as B2, C11, and D4, the crime rate continues to be the highest year after year which again reveals the BPD ineffectivness at eliminating crime at times when crime is at it's peak. However, we can see drops in criminal activity in districts such as A15, A7, and E5 which illustrates the BPD's effectiveness at reducing crime in areas where crime is less likely to occur. "
   ]
  },
  {
   "cell_type": "markdown",
   "id": "dcf50701-bd6a-4d15-a566-b0c8b1b7dce6",
   "metadata": {
    "tags": []
   },
   "source": [
    "All in all, the Boston Police Department are relatively effective in making Boston a safer city as the years go by as the decreases in overall crime rates do have substantial drops year-by-year. Unfortunately, the BPD seems ineffective at reducing the dangerous areas of Boston, especially when there is large amounts of criminal activity. However, it is easy to be optimistic about the cities future as the BPD continues to evolve and will hopefully be able to reduce more serious criminal activity as the years go by. "
   ]
  },
  {
   "cell_type": "markdown",
   "id": "f1b55a04-238b-4adf-9e5c-8f7fd4c4b795",
   "metadata": {
    "tags": []
   },
   "source": [
    "## Are there patterns from crime incidents and linkages between them with other determinants such as socioeconomic factors? Would specific major events, for example an election, impact the city's crime rate?\n",
    "\r\n",
    "I am interested in analyzing what types of crimes occur in certain districts and why they occur. Detecting patterns like this and linking them with other determinants such as socioeconomic factors may lead to revelations regarding equality and safety within the Boston community. Another intriguing question would be if specific major events, for example an election, would impact the city's crime rate."
   ]
  },
  {
   "cell_type": "code",
   "execution_count": 14,
   "id": "feb03747-b557-4eca-ae4f-f6171e168b15",
   "metadata": {},
   "outputs": [
    {
     "data": {
      "text/html": [
       "<div>\n",
       "<style scoped>\n",
       "    .dataframe tbody tr th:only-of-type {\n",
       "        vertical-align: middle;\n",
       "    }\n",
       "\n",
       "    .dataframe tbody tr th {\n",
       "        vertical-align: top;\n",
       "    }\n",
       "\n",
       "    .dataframe thead th {\n",
       "        text-align: right;\n",
       "    }\n",
       "</style>\n",
       "<table border=\"1\" class=\"dataframe\">\n",
       "  <thead>\n",
       "    <tr style=\"text-align: right;\">\n",
       "      <th></th>\n",
       "      <th>OFFENSE_CODE_GROUP</th>\n",
       "      <th>OFFENSE_DESCRIPTION</th>\n",
       "      <th>YEAR</th>\n",
       "      <th>MONTH</th>\n",
       "      <th>DAY_OF_WEEK</th>\n",
       "      <th>HOUR</th>\n",
       "    </tr>\n",
       "  </thead>\n",
       "  <tbody>\n",
       "    <tr>\n",
       "      <th>0</th>\n",
       "      <td>Larceny</td>\n",
       "      <td>LARCENY ALL OTHERS</td>\n",
       "      <td>2018</td>\n",
       "      <td>9</td>\n",
       "      <td>Sunday</td>\n",
       "      <td>13</td>\n",
       "    </tr>\n",
       "    <tr>\n",
       "      <th>1</th>\n",
       "      <td>Vandalism</td>\n",
       "      <td>VANDALISM</td>\n",
       "      <td>2018</td>\n",
       "      <td>8</td>\n",
       "      <td>Tuesday</td>\n",
       "      <td>0</td>\n",
       "    </tr>\n",
       "    <tr>\n",
       "      <th>2</th>\n",
       "      <td>Towed</td>\n",
       "      <td>TOWED MOTOR VEHICLE</td>\n",
       "      <td>2018</td>\n",
       "      <td>9</td>\n",
       "      <td>Monday</td>\n",
       "      <td>19</td>\n",
       "    </tr>\n",
       "    <tr>\n",
       "      <th>3</th>\n",
       "      <td>Investigate Property</td>\n",
       "      <td>INVESTIGATE PROPERTY</td>\n",
       "      <td>2018</td>\n",
       "      <td>9</td>\n",
       "      <td>Monday</td>\n",
       "      <td>21</td>\n",
       "    </tr>\n",
       "    <tr>\n",
       "      <th>4</th>\n",
       "      <td>Investigate Property</td>\n",
       "      <td>INVESTIGATE PROPERTY</td>\n",
       "      <td>2018</td>\n",
       "      <td>9</td>\n",
       "      <td>Monday</td>\n",
       "      <td>21</td>\n",
       "    </tr>\n",
       "    <tr>\n",
       "      <th>...</th>\n",
       "      <td>...</td>\n",
       "      <td>...</td>\n",
       "      <td>...</td>\n",
       "      <td>...</td>\n",
       "      <td>...</td>\n",
       "      <td>...</td>\n",
       "    </tr>\n",
       "    <tr>\n",
       "      <th>319068</th>\n",
       "      <td>Warrant Arrests</td>\n",
       "      <td>WARRANT ARREST</td>\n",
       "      <td>2016</td>\n",
       "      <td>6</td>\n",
       "      <td>Sunday</td>\n",
       "      <td>17</td>\n",
       "    </tr>\n",
       "    <tr>\n",
       "      <th>319069</th>\n",
       "      <td>Homicide</td>\n",
       "      <td>MURDER, NON-NEGLIGIENT MANSLAUGHTER</td>\n",
       "      <td>2015</td>\n",
       "      <td>7</td>\n",
       "      <td>Thursday</td>\n",
       "      <td>13</td>\n",
       "    </tr>\n",
       "    <tr>\n",
       "      <th>319070</th>\n",
       "      <td>Warrant Arrests</td>\n",
       "      <td>WARRANT ARREST</td>\n",
       "      <td>2015</td>\n",
       "      <td>7</td>\n",
       "      <td>Thursday</td>\n",
       "      <td>13</td>\n",
       "    </tr>\n",
       "    <tr>\n",
       "      <th>319071</th>\n",
       "      <td>Warrant Arrests</td>\n",
       "      <td>WARRANT ARREST</td>\n",
       "      <td>2016</td>\n",
       "      <td>5</td>\n",
       "      <td>Tuesday</td>\n",
       "      <td>19</td>\n",
       "    </tr>\n",
       "    <tr>\n",
       "      <th>319072</th>\n",
       "      <td>Warrant Arrests</td>\n",
       "      <td>WARRANT ARREST</td>\n",
       "      <td>2015</td>\n",
       "      <td>6</td>\n",
       "      <td>Monday</td>\n",
       "      <td>0</td>\n",
       "    </tr>\n",
       "  </tbody>\n",
       "</table>\n",
       "<p>319073 rows × 6 columns</p>\n",
       "</div>"
      ],
      "text/plain": [
       "          OFFENSE_CODE_GROUP                  OFFENSE_DESCRIPTION  YEAR  \\\n",
       "0                    Larceny                   LARCENY ALL OTHERS  2018   \n",
       "1                  Vandalism                            VANDALISM  2018   \n",
       "2                      Towed                  TOWED MOTOR VEHICLE  2018   \n",
       "3       Investigate Property                 INVESTIGATE PROPERTY  2018   \n",
       "4       Investigate Property                 INVESTIGATE PROPERTY  2018   \n",
       "...                      ...                                  ...   ...   \n",
       "319068       Warrant Arrests                       WARRANT ARREST  2016   \n",
       "319069              Homicide  MURDER, NON-NEGLIGIENT MANSLAUGHTER  2015   \n",
       "319070       Warrant Arrests                       WARRANT ARREST  2015   \n",
       "319071       Warrant Arrests                       WARRANT ARREST  2016   \n",
       "319072       Warrant Arrests                       WARRANT ARREST  2015   \n",
       "\n",
       "        MONTH DAY_OF_WEEK  HOUR  \n",
       "0           9      Sunday    13  \n",
       "1           8     Tuesday     0  \n",
       "2           9      Monday    19  \n",
       "3           9      Monday    21  \n",
       "4           9      Monday    21  \n",
       "...       ...         ...   ...  \n",
       "319068      6      Sunday    17  \n",
       "319069      7    Thursday    13  \n",
       "319070      7    Thursday    13  \n",
       "319071      5     Tuesday    19  \n",
       "319072      6      Monday     0  \n",
       "\n",
       "[319073 rows x 6 columns]"
      ]
     },
     "execution_count": 14,
     "metadata": {},
     "output_type": "execute_result"
    }
   ],
   "source": [
    "from Sophie1 import project_functions2\n",
    "df=project_functions2.load_and_process('../data/raw/crime.csv')\n",
    "df"
   ]
  },
  {
   "cell_type": "code",
   "execution_count": 17,
   "id": "846e918b-eb51-40e5-a094-ca2dee0ae6ad",
   "metadata": {},
   "outputs": [],
   "source": [
    "import pandas as pd\n",
    "import numpy as np\n",
    "import matplotlib.pylab as plt\n",
    "import seaborn as sns\n",
    "df = pd.read_csv(\"../data/raw/crime.csv\", encoding='unicode_escape')"
   ]
  },
  {
   "cell_type": "code",
   "execution_count": 18,
   "id": "d3cd4b85-32f4-425a-a473-45afe7332236",
   "metadata": {},
   "outputs": [
    {
     "data": {
      "text/html": [
       "<div>\n",
       "<style scoped>\n",
       "    .dataframe tbody tr th:only-of-type {\n",
       "        vertical-align: middle;\n",
       "    }\n",
       "\n",
       "    .dataframe tbody tr th {\n",
       "        vertical-align: top;\n",
       "    }\n",
       "\n",
       "    .dataframe thead th {\n",
       "        text-align: right;\n",
       "    }\n",
       "</style>\n",
       "<table border=\"1\" class=\"dataframe\">\n",
       "  <thead>\n",
       "    <tr style=\"text-align: right;\">\n",
       "      <th></th>\n",
       "      <th>OFFENSE_CODE_GROUP</th>\n",
       "      <th>OFFENSE_DESCRIPTION</th>\n",
       "      <th>DISTRICT</th>\n",
       "      <th>STREET</th>\n",
       "      <th>Location</th>\n",
       "    </tr>\n",
       "  </thead>\n",
       "  <tbody>\n",
       "    <tr>\n",
       "      <th>0</th>\n",
       "      <td>Larceny</td>\n",
       "      <td>LARCENY ALL OTHERS</td>\n",
       "      <td>D14</td>\n",
       "      <td>LINCOLN ST</td>\n",
       "      <td>(42.35779134, -71.13937053)</td>\n",
       "    </tr>\n",
       "    <tr>\n",
       "      <th>1</th>\n",
       "      <td>Vandalism</td>\n",
       "      <td>VANDALISM</td>\n",
       "      <td>C11</td>\n",
       "      <td>HECLA ST</td>\n",
       "      <td>(42.30682138, -71.06030035)</td>\n",
       "    </tr>\n",
       "    <tr>\n",
       "      <th>2</th>\n",
       "      <td>Towed</td>\n",
       "      <td>TOWED MOTOR VEHICLE</td>\n",
       "      <td>D4</td>\n",
       "      <td>CAZENOVE ST</td>\n",
       "      <td>(42.34658879, -71.07242943)</td>\n",
       "    </tr>\n",
       "    <tr>\n",
       "      <th>3</th>\n",
       "      <td>Investigate Property</td>\n",
       "      <td>INVESTIGATE PROPERTY</td>\n",
       "      <td>D4</td>\n",
       "      <td>NEWCOMB ST</td>\n",
       "      <td>(42.33418175, -71.07866441)</td>\n",
       "    </tr>\n",
       "    <tr>\n",
       "      <th>4</th>\n",
       "      <td>Investigate Property</td>\n",
       "      <td>INVESTIGATE PROPERTY</td>\n",
       "      <td>B3</td>\n",
       "      <td>DELHI ST</td>\n",
       "      <td>(42.27536542, -71.09036101)</td>\n",
       "    </tr>\n",
       "    <tr>\n",
       "      <th>...</th>\n",
       "      <td>...</td>\n",
       "      <td>...</td>\n",
       "      <td>...</td>\n",
       "      <td>...</td>\n",
       "      <td>...</td>\n",
       "    </tr>\n",
       "    <tr>\n",
       "      <th>319068</th>\n",
       "      <td>Warrant Arrests</td>\n",
       "      <td>WARRANT ARREST</td>\n",
       "      <td>D4</td>\n",
       "      <td>COVENTRY ST</td>\n",
       "      <td>(42.33695098, -71.08574813)</td>\n",
       "    </tr>\n",
       "    <tr>\n",
       "      <th>319069</th>\n",
       "      <td>Homicide</td>\n",
       "      <td>MURDER, NON-NEGLIGIENT MANSLAUGHTER</td>\n",
       "      <td>E18</td>\n",
       "      <td>RIVER ST</td>\n",
       "      <td>(42.25592648, -71.12317207)</td>\n",
       "    </tr>\n",
       "    <tr>\n",
       "      <th>319070</th>\n",
       "      <td>Warrant Arrests</td>\n",
       "      <td>WARRANT ARREST</td>\n",
       "      <td>E18</td>\n",
       "      <td>RIVER ST</td>\n",
       "      <td>(42.25592648, -71.12317207)</td>\n",
       "    </tr>\n",
       "    <tr>\n",
       "      <th>319071</th>\n",
       "      <td>Warrant Arrests</td>\n",
       "      <td>WARRANT ARREST</td>\n",
       "      <td>E13</td>\n",
       "      <td>NEW WASHINGTON ST</td>\n",
       "      <td>(42.30233307, -71.11156487)</td>\n",
       "    </tr>\n",
       "    <tr>\n",
       "      <th>319072</th>\n",
       "      <td>Warrant Arrests</td>\n",
       "      <td>WARRANT ARREST</td>\n",
       "      <td>D4</td>\n",
       "      <td>WASHINGTON ST</td>\n",
       "      <td>(42.33383935, -71.08029038)</td>\n",
       "    </tr>\n",
       "  </tbody>\n",
       "</table>\n",
       "<p>319073 rows × 5 columns</p>\n",
       "</div>"
      ],
      "text/plain": [
       "          OFFENSE_CODE_GROUP                  OFFENSE_DESCRIPTION DISTRICT  \\\n",
       "0                    Larceny                   LARCENY ALL OTHERS      D14   \n",
       "1                  Vandalism                            VANDALISM      C11   \n",
       "2                      Towed                  TOWED MOTOR VEHICLE       D4   \n",
       "3       Investigate Property                 INVESTIGATE PROPERTY       D4   \n",
       "4       Investigate Property                 INVESTIGATE PROPERTY       B3   \n",
       "...                      ...                                  ...      ...   \n",
       "319068       Warrant Arrests                       WARRANT ARREST       D4   \n",
       "319069              Homicide  MURDER, NON-NEGLIGIENT MANSLAUGHTER      E18   \n",
       "319070       Warrant Arrests                       WARRANT ARREST      E18   \n",
       "319071       Warrant Arrests                       WARRANT ARREST      E13   \n",
       "319072       Warrant Arrests                       WARRANT ARREST       D4   \n",
       "\n",
       "                   STREET                     Location  \n",
       "0              LINCOLN ST  (42.35779134, -71.13937053)  \n",
       "1                HECLA ST  (42.30682138, -71.06030035)  \n",
       "2             CAZENOVE ST  (42.34658879, -71.07242943)  \n",
       "3              NEWCOMB ST  (42.33418175, -71.07866441)  \n",
       "4                DELHI ST  (42.27536542, -71.09036101)  \n",
       "...                   ...                          ...  \n",
       "319068        COVENTRY ST  (42.33695098, -71.08574813)  \n",
       "319069           RIVER ST  (42.25592648, -71.12317207)  \n",
       "319070           RIVER ST  (42.25592648, -71.12317207)  \n",
       "319071  NEW WASHINGTON ST  (42.30233307, -71.11156487)  \n",
       "319072      WASHINGTON ST  (42.33383935, -71.08029038)  \n",
       "\n",
       "[319073 rows x 5 columns]"
      ]
     },
     "execution_count": 18,
     "metadata": {},
     "output_type": "execute_result"
    }
   ],
   "source": [
    "df1=df\n",
    "df1.drop(columns = ['INCIDENT_NUMBER', 'OFFENSE_CODE', 'REPORTING_AREA', 'SHOOTING', 'OCCURRED_ON_DATE' , 'YEAR', 'MONTH', 'DAY_OF_WEEK', 'HOUR', 'UCR_PART', 'Lat', 'Long'])"
   ]
  },
  {
   "cell_type": "code",
   "execution_count": 19,
   "id": "20fdfc3d-d0b0-4217-8c22-5a7e01f9d4d8",
   "metadata": {},
   "outputs": [
    {
     "data": {
      "text/html": [
       "<div>\n",
       "<style scoped>\n",
       "    .dataframe tbody tr th:only-of-type {\n",
       "        vertical-align: middle;\n",
       "    }\n",
       "\n",
       "    .dataframe tbody tr th {\n",
       "        vertical-align: top;\n",
       "    }\n",
       "\n",
       "    .dataframe thead th {\n",
       "        text-align: right;\n",
       "    }\n",
       "</style>\n",
       "<table border=\"1\" class=\"dataframe\">\n",
       "  <thead>\n",
       "    <tr style=\"text-align: right;\">\n",
       "      <th></th>\n",
       "      <th>OFFENSE_CODE_GROUP</th>\n",
       "      <th>OFFENSE_DESCRIPTION</th>\n",
       "      <th>YEAR</th>\n",
       "      <th>MONTH</th>\n",
       "      <th>DAY_OF_WEEK</th>\n",
       "      <th>HOUR</th>\n",
       "    </tr>\n",
       "  </thead>\n",
       "  <tbody>\n",
       "    <tr>\n",
       "      <th>0</th>\n",
       "      <td>Larceny</td>\n",
       "      <td>LARCENY ALL OTHERS</td>\n",
       "      <td>2018</td>\n",
       "      <td>9</td>\n",
       "      <td>Sunday</td>\n",
       "      <td>13</td>\n",
       "    </tr>\n",
       "    <tr>\n",
       "      <th>1</th>\n",
       "      <td>Vandalism</td>\n",
       "      <td>VANDALISM</td>\n",
       "      <td>2018</td>\n",
       "      <td>8</td>\n",
       "      <td>Tuesday</td>\n",
       "      <td>0</td>\n",
       "    </tr>\n",
       "    <tr>\n",
       "      <th>2</th>\n",
       "      <td>Towed</td>\n",
       "      <td>TOWED MOTOR VEHICLE</td>\n",
       "      <td>2018</td>\n",
       "      <td>9</td>\n",
       "      <td>Monday</td>\n",
       "      <td>19</td>\n",
       "    </tr>\n",
       "    <tr>\n",
       "      <th>3</th>\n",
       "      <td>Investigate Property</td>\n",
       "      <td>INVESTIGATE PROPERTY</td>\n",
       "      <td>2018</td>\n",
       "      <td>9</td>\n",
       "      <td>Monday</td>\n",
       "      <td>21</td>\n",
       "    </tr>\n",
       "    <tr>\n",
       "      <th>4</th>\n",
       "      <td>Investigate Property</td>\n",
       "      <td>INVESTIGATE PROPERTY</td>\n",
       "      <td>2018</td>\n",
       "      <td>9</td>\n",
       "      <td>Monday</td>\n",
       "      <td>21</td>\n",
       "    </tr>\n",
       "    <tr>\n",
       "      <th>...</th>\n",
       "      <td>...</td>\n",
       "      <td>...</td>\n",
       "      <td>...</td>\n",
       "      <td>...</td>\n",
       "      <td>...</td>\n",
       "      <td>...</td>\n",
       "    </tr>\n",
       "    <tr>\n",
       "      <th>319068</th>\n",
       "      <td>Warrant Arrests</td>\n",
       "      <td>WARRANT ARREST</td>\n",
       "      <td>2016</td>\n",
       "      <td>6</td>\n",
       "      <td>Sunday</td>\n",
       "      <td>17</td>\n",
       "    </tr>\n",
       "    <tr>\n",
       "      <th>319069</th>\n",
       "      <td>Homicide</td>\n",
       "      <td>MURDER, NON-NEGLIGIENT MANSLAUGHTER</td>\n",
       "      <td>2015</td>\n",
       "      <td>7</td>\n",
       "      <td>Thursday</td>\n",
       "      <td>13</td>\n",
       "    </tr>\n",
       "    <tr>\n",
       "      <th>319070</th>\n",
       "      <td>Warrant Arrests</td>\n",
       "      <td>WARRANT ARREST</td>\n",
       "      <td>2015</td>\n",
       "      <td>7</td>\n",
       "      <td>Thursday</td>\n",
       "      <td>13</td>\n",
       "    </tr>\n",
       "    <tr>\n",
       "      <th>319071</th>\n",
       "      <td>Warrant Arrests</td>\n",
       "      <td>WARRANT ARREST</td>\n",
       "      <td>2016</td>\n",
       "      <td>5</td>\n",
       "      <td>Tuesday</td>\n",
       "      <td>19</td>\n",
       "    </tr>\n",
       "    <tr>\n",
       "      <th>319072</th>\n",
       "      <td>Warrant Arrests</td>\n",
       "      <td>WARRANT ARREST</td>\n",
       "      <td>2015</td>\n",
       "      <td>6</td>\n",
       "      <td>Monday</td>\n",
       "      <td>0</td>\n",
       "    </tr>\n",
       "  </tbody>\n",
       "</table>\n",
       "<p>319073 rows × 6 columns</p>\n",
       "</div>"
      ],
      "text/plain": [
       "          OFFENSE_CODE_GROUP                  OFFENSE_DESCRIPTION  YEAR  \\\n",
       "0                    Larceny                   LARCENY ALL OTHERS  2018   \n",
       "1                  Vandalism                            VANDALISM  2018   \n",
       "2                      Towed                  TOWED MOTOR VEHICLE  2018   \n",
       "3       Investigate Property                 INVESTIGATE PROPERTY  2018   \n",
       "4       Investigate Property                 INVESTIGATE PROPERTY  2018   \n",
       "...                      ...                                  ...   ...   \n",
       "319068       Warrant Arrests                       WARRANT ARREST  2016   \n",
       "319069              Homicide  MURDER, NON-NEGLIGIENT MANSLAUGHTER  2015   \n",
       "319070       Warrant Arrests                       WARRANT ARREST  2015   \n",
       "319071       Warrant Arrests                       WARRANT ARREST  2016   \n",
       "319072       Warrant Arrests                       WARRANT ARREST  2015   \n",
       "\n",
       "        MONTH DAY_OF_WEEK  HOUR  \n",
       "0           9      Sunday    13  \n",
       "1           8     Tuesday     0  \n",
       "2           9      Monday    19  \n",
       "3           9      Monday    21  \n",
       "4           9      Monday    21  \n",
       "...       ...         ...   ...  \n",
       "319068      6      Sunday    17  \n",
       "319069      7    Thursday    13  \n",
       "319070      7    Thursday    13  \n",
       "319071      5     Tuesday    19  \n",
       "319072      6      Monday     0  \n",
       "\n",
       "[319073 rows x 6 columns]"
      ]
     },
     "execution_count": 19,
     "metadata": {},
     "output_type": "execute_result"
    }
   ],
   "source": [
    "df2=df\n",
    "df2.drop(columns = ['INCIDENT_NUMBER', 'OFFENSE_CODE', 'REPORTING_AREA', 'SHOOTING', 'OCCURRED_ON_DATE', 'UCR_PART', 'Lat', 'Long', 'Location', 'STREET', 'DISTRICT'])"
   ]
  },
  {
   "cell_type": "code",
   "execution_count": 20,
   "id": "50faeba2-25be-4742-9f43-3f87865f0273",
   "metadata": {},
   "outputs": [],
   "source": [
    "sns.set_theme(style=\"ticks\",\n",
    "              font_scale=1.3, # this scales the fonts slightly higher\n",
    "             )\n",
    "#removing the top and right axis lines\n",
    "plt.rc(\"axes.spines\", top=False, right=False)"
   ]
  },
  {
   "cell_type": "markdown",
   "id": "51308523-f4a3-4580-b010-b66aef6d3080",
   "metadata": {
    "tags": []
   },
   "source": [
    "## Are there patterns from crime incidents and linkages between them with other determinants such as socioeconomic factors?\n",
    "\r",
    "From analyzing this graph, district B2 has the highest crime rate in Boston. This district is located within the neighbourhood of Roxbury, south of the city centre. Marginalization is becoming more eminent due to the teardown of the elevated Orange Line in 1987. This had a detrimental effect on the community as it removed easy access to public transportation in the neighbourhood’s poorest areas. (Source: https://www.bostonmagazine.com/property/roxbury-neighborhood-guide/) Along with Roxbury struggling with a crack cocaine epidemic, these factors evidently lead to higher crime rates than other parts of the city. Lower funded neighbourhoods with lower average household income correlates to higher crime rates. This district should receive more attention not only from the police, but by the city by increasing funding within the neighbourhood, increasing public transportation access, and implementing community programs to help residents so they don't feel as if they must restore to crime."
   ]
  },
  {
   "cell_type": "code",
   "execution_count": 21,
   "id": "b56f6d51-1ad7-4cb6-bd9b-e38935478fbb",
   "metadata": {},
   "outputs": [
    {
     "data": {
      "text/plain": [
       "<seaborn.axisgrid.FacetGrid at 0x7fa434862130>"
      ]
     },
     "execution_count": 21,
     "metadata": {},
     "output_type": "execute_result"
    },
    {
     "data": {
      "image/png": "[encoded data removed]",
      "text/plain": [
       "<Figure size 360x360 with 1 Axes>"
      ]
     },
     "metadata": {},
     "output_type": "display_data"
    }
   ],
   "source": [
    "sns.displot(df1['DISTRICT'], kde=False, bins=319073)"
   ]
  },
  {
   "cell_type": "markdown",
   "id": "9e70136e-4d79-4024-9ec8-fda0644cfa16",
   "metadata": {
    "tags": []
   },
   "source": [
    "## Would specific major events, for example an election, impact the city's crime rate?\n",
    "\r",
    "Looking at the second graph and the description of some characteristics within the data, it is evident that on June 1, 2017, there was the highest rate of reported crimes in Boston between June 2015 - Sept 2018. There were no major events that specifically occurred in Boston that day, however, it marked the 50th anniversary of a large civil rights riot that occurred in Roxbury. Another event that might have correlated to this increase in crime would be that the president of the US withdrew from the Paris climate agreement, which was majorly disapproved by the country. This political action could have caused unrest and may have raised tensions, therefore crime rates in major US cities such as Boston rose."
   ]
  },
  {
   "cell_type": "code",
   "execution_count": 22,
   "id": "278d05f7-3d88-4c3a-bcc7-23189bf768a8",
   "metadata": {},
   "outputs": [
    {
     "data": {
      "text/html": [
       "<div>\n",
       "<style scoped>\n",
       "    .dataframe tbody tr th:only-of-type {\n",
       "        vertical-align: middle;\n",
       "    }\n",
       "\n",
       "    .dataframe tbody tr th {\n",
       "        vertical-align: top;\n",
       "    }\n",
       "\n",
       "    .dataframe thead th {\n",
       "        text-align: right;\n",
       "    }\n",
       "</style>\n",
       "<table border=\"1\" class=\"dataframe\">\n",
       "  <thead>\n",
       "    <tr style=\"text-align: right;\">\n",
       "      <th></th>\n",
       "      <th>count</th>\n",
       "      <th>unique</th>\n",
       "      <th>top</th>\n",
       "      <th>freq</th>\n",
       "    </tr>\n",
       "  </thead>\n",
       "  <tbody>\n",
       "    <tr>\n",
       "      <th>INCIDENT_NUMBER</th>\n",
       "      <td>319073</td>\n",
       "      <td>282517</td>\n",
       "      <td>I162030584</td>\n",
       "      <td>13</td>\n",
       "    </tr>\n",
       "    <tr>\n",
       "      <th>OFFENSE_CODE_GROUP</th>\n",
       "      <td>319073</td>\n",
       "      <td>67</td>\n",
       "      <td>Motor Vehicle Accident Response</td>\n",
       "      <td>37132</td>\n",
       "    </tr>\n",
       "    <tr>\n",
       "      <th>OFFENSE_DESCRIPTION</th>\n",
       "      <td>319073</td>\n",
       "      <td>244</td>\n",
       "      <td>SICK/INJURED/MEDICAL - PERSON</td>\n",
       "      <td>18783</td>\n",
       "    </tr>\n",
       "    <tr>\n",
       "      <th>DISTRICT</th>\n",
       "      <td>317308</td>\n",
       "      <td>12</td>\n",
       "      <td>B2</td>\n",
       "      <td>49945</td>\n",
       "    </tr>\n",
       "    <tr>\n",
       "      <th>REPORTING_AREA</th>\n",
       "      <td>319073</td>\n",
       "      <td>879</td>\n",
       "      <td></td>\n",
       "      <td>20250</td>\n",
       "    </tr>\n",
       "    <tr>\n",
       "      <th>SHOOTING</th>\n",
       "      <td>1019</td>\n",
       "      <td>1</td>\n",
       "      <td>Y</td>\n",
       "      <td>1019</td>\n",
       "    </tr>\n",
       "    <tr>\n",
       "      <th>OCCURRED_ON_DATE</th>\n",
       "      <td>319073</td>\n",
       "      <td>233229</td>\n",
       "      <td>2017-06-01 00:00:00</td>\n",
       "      <td>29</td>\n",
       "    </tr>\n",
       "    <tr>\n",
       "      <th>DAY_OF_WEEK</th>\n",
       "      <td>319073</td>\n",
       "      <td>7</td>\n",
       "      <td>Friday</td>\n",
       "      <td>48495</td>\n",
       "    </tr>\n",
       "    <tr>\n",
       "      <th>UCR_PART</th>\n",
       "      <td>318983</td>\n",
       "      <td>4</td>\n",
       "      <td>Part Three</td>\n",
       "      <td>158553</td>\n",
       "    </tr>\n",
       "    <tr>\n",
       "      <th>STREET</th>\n",
       "      <td>308202</td>\n",
       "      <td>4657</td>\n",
       "      <td>WASHINGTON ST</td>\n",
       "      <td>14194</td>\n",
       "    </tr>\n",
       "    <tr>\n",
       "      <th>Location</th>\n",
       "      <td>319073</td>\n",
       "      <td>18194</td>\n",
       "      <td>(0.00000000, 0.00000000)</td>\n",
       "      <td>19999</td>\n",
       "    </tr>\n",
       "  </tbody>\n",
       "</table>\n",
       "</div>"
      ],
      "text/plain": [
       "                      count  unique                              top    freq\n",
       "INCIDENT_NUMBER      319073  282517                       I162030584      13\n",
       "OFFENSE_CODE_GROUP   319073      67  Motor Vehicle Accident Response   37132\n",
       "OFFENSE_DESCRIPTION  319073     244    SICK/INJURED/MEDICAL - PERSON   18783\n",
       "DISTRICT             317308      12                               B2   49945\n",
       "REPORTING_AREA       319073     879                                    20250\n",
       "SHOOTING               1019       1                                Y    1019\n",
       "OCCURRED_ON_DATE     319073  233229              2017-06-01 00:00:00      29\n",
       "DAY_OF_WEEK          319073       7                           Friday   48495\n",
       "UCR_PART             318983       4                       Part Three  158553\n",
       "STREET               308202    4657                    WASHINGTON ST   14194\n",
       "Location             319073   18194         (0.00000000, 0.00000000)   19999"
      ]
     },
     "execution_count": 22,
     "metadata": {},
     "output_type": "execute_result"
    }
   ],
   "source": [
    "df.describe(include='object').T"
   ]
  },
  {
   "cell_type": "code",
   "execution_count": 23,
   "id": "69722af4-7e0d-4e26-8044-ad3fa0a3fd3d",
   "metadata": {},
   "outputs": [
    {
     "data": {
      "text/plain": [
       "<AxesSubplot:title={'center':'Crime Rate In Boston per Month'}, xlabel='Month', ylabel='Year'>"
      ]
     },
     "execution_count": 23,
     "metadata": {},
     "output_type": "execute_result"
    },
    {
     "data": {
      "image/png": "[encoded data removed]",
      "text/plain": [
       "<Figure size 1440x720 with 1 Axes>"
      ]
     },
     "metadata": {},
     "output_type": "display_data"
    }
   ],
   "source": [
    "a4_dims = (20, 10)\n",
    "fig, ax = plt.subplots(figsize=a4_dims)\n",
    "ax = sns.barplot(x=\"MONTH\", y=\"YEAR\", data=df2, color=\"tab:red\")\n",
    "ax.set_title(\"Crime Rate In Boston per Month\")\n",
    "ax.set_xlabel(\"Month\")\n",
    "ax.set_ylabel(\"Year\")\n",
    "ax"
   ]
  },
  {
   "cell_type": "code",
   "execution_count": 24,
   "id": "059a4fe3-5862-4188-a131-6dcbb4cae1fb",
   "metadata": {},
   "outputs": [
    {
     "data": {
      "text/plain": [
       "<AxesSubplot:title={'center':'Crime Rates During the Week'}, xlabel='Number of Crimes Reported', ylabel='Day of Week'>"
      ]
     },
     "execution_count": 24,
     "metadata": {},
     "output_type": "execute_result"
    },
    {
     "data": {
      "image/png": "[encoded data removed]",
      "text/plain": [
       "<Figure size 1440x720 with 1 Axes>"
      ]
     },
     "metadata": {},
     "output_type": "display_data"
    }
   ],
   "source": [
    "a4_dims = (20, 10)\n",
    "fig, ax = plt.subplots(figsize=a4_dims)\n",
    "ax = sns.countplot(y ='DAY_OF_WEEK' ,data = df2)\n",
    "ax.set_title(\"Crime Rates During the Week\")\n",
    "ax.set_xlabel(\"Number of Crimes Reported\")\n",
    "ax.set_ylabel(\"Day of Week\")\n",
    "ax"
   ]
  },
  {
   "cell_type": "code",
   "execution_count": 25,
   "id": "5122e183-f9c1-4cf2-a128-6c4b68f78ed9",
   "metadata": {},
   "outputs": [
    {
     "data": {
      "text/plain": [
       "<AxesSubplot:xlabel='HOUR', ylabel='Density'>"
      ]
     },
     "execution_count": 25,
     "metadata": {},
     "output_type": "execute_result"
    },
    {
     "data": {
      "image/png": "[encoded data removed]",
      "text/plain": [
       "<Figure size 432x288 with 1 Axes>"
      ]
     },
     "metadata": {},
     "output_type": "display_data"
    }
   ],
   "source": [
    "a4_dims = (20, 10)\n",
    "sns.kdeplot(df2['HOUR'])"
   ]
  },
  {
   "cell_type": "markdown",
   "id": "a59cf163-d7af-4e18-ae97-2ce38f59fdd5",
   "metadata": {
    "tags": []
   },
   "source": [
    "Summarizing the info that is gathered while analyzing this data, it is evident that there may be linkages between socioeconomic factors and crime rates. However, a specific major event may not have a substantial correlation to the crime rate, in Boston specifically.  Detecting patterns like these can lead to revelations regarding equality and safety within the Boston community. The Boston Police Force and the City of Boston can use this knowledge to aid them to create a safer City and communities in the long run. Regulation in certain areas and implementation of programs to aid members of the community to succeed are some steps that could be taken."
   ]
  }
 ],
 "metadata": {
  "kernelspec": {
   "display_name": "Python 3",
   "language": "python",
   "name": "python3"
  },
  "language_info": {
   "codemirror_mode": {
    "name": "ipython",
    "version": 3
   },
   "file_extension": ".py",
   "mimetype": "text/x-python",
   "name": "python",
   "nbconvert_exporter": "python",
   "pygments_lexer": "ipython3",
   "version": "3.9.5"
  }
 },
 "nbformat": 4,
 "nbformat_minor": 5
}
