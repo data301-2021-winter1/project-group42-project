{
 "cells": [
  {
   "cell_type": "markdown",
   "metadata": {},
   "source": [
    "# Sophie Betivoiu"
   ]
  },
  {
   "cell_type": "markdown",
   "metadata": {},
   "source": [
    "## Are there patterns from crime incidents and linkages between them with other determinants such as socioeconomic factors? Would specific major events, for example an election, impact the city's crime rate?\n",
    "\n",
    "I am interested in analyzing what types of crimes occur in certain districts and why they occur. Detecting patterns like this and linking them with other determinants such as socioeconomic factors may lead to revelations regarding equality and safety within the Boston community. Another intriguing question would be if specific major events, for example an election, would impact the city's crime rate.e."
   ]
  }
 ],
 "metadata": {
  "kernelspec": {
   "display_name": "Python 3",
   "language": "python",
   "name": "python3"
  },
  "language_info": {
   "codemirror_mode": {
    "name": "ipython",
    "version": 3
   },
   "file_extension": ".py",
   "mimetype": "text/x-python",
   "name": "python",
   "nbconvert_exporter": "python",
   "pygments_lexer": "ipython3",
   "version": "3.9.5"
  }
 },
 "nbformat": 4,
 "nbformat_minor": 4
}
