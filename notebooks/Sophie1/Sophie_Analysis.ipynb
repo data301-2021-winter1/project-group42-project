{
 "cells": [
  {
   "cell_type": "code",
   "execution_count": null,
   "id": "f74bcbc3-1088-4592-9c70-8c37cbc74e4b",
   "metadata": {},
   "outputs": [],
   "source": []
  }
 ],
 "metadata": {
  "kernelspec": {
   "display_name": "Python 3",
   "language": "python",
   "name": "python3"
  },
  "language_info": {
   "codemirror_mode": {
    "name": "ipython",
    "version": 3
   },
   "file_extension": ".py",
   "mimetype": "text/x-python",
   "name": "python",
   "nbconvert_exporter": "python",
   "pygments_lexer": "ipython3",
   "version": "3.9.5"
  }
 },
 "nbformat": 4,
 "nbformat_minor": 5
}
